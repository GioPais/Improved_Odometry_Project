{
  "nbformat": 4,
  "nbformat_minor": 0,
  "metadata": {
    "colab": {
      "name": "last_hope_gs.ipynb",
      "version": "0.3.2",
      "provenance": []
    },
    "kernelspec": {
      "display_name": "Python 3",
      "language": "python",
      "name": "python3"
    }
  },
  "cells": [
    {
      "metadata": {
        "id": "BUNqBonblBRn",
        "colab_type": "code",
        "colab": {
          "base_uri": "https://localhost:8080/",
          "height": 34
        },
        "outputId": "fbc0cc19-4f48-43c3-9918-f34f70e140bb"
      },
      "cell_type": "code",
      "source": [
        "from math import sqrt\n",
        "from numpy import concatenate\n",
        "from matplotlib import pyplot\n",
        "from pandas import read_csv\n",
        "from pandas import DataFrame\n",
        "from pandas import concat\n",
        "from sklearn.preprocessing import MinMaxScaler\n",
        "from sklearn.preprocessing import LabelEncoder\n",
        "from sklearn.metrics import mean_squared_error\n",
        "from keras.models import Sequential\n",
        "from keras.layers import Dense\n",
        "from keras.layers import LSTM\n",
        "from keras.layers import Dense, Dropout\n",
        "from keras import backend as K\n",
        "import numpy as np\n",
        "import seaborn as sns"
      ],
      "execution_count": 1,
      "outputs": [
        {
          "output_type": "stream",
          "text": [
            "Using TensorFlow backend.\n"
          ],
          "name": "stderr"
        }
      ]
    },
    {
      "metadata": {
        "id": "UrgU6q6iiFS0",
        "colab_type": "code",
        "colab": {}
      },
      "cell_type": "code",
      "source": [
        "sns.set()\n",
        "sns.set_context('notebook',font_scale=1.4)\n",
        "pyplot.rcParams['figure.figsize']=(25,12)"
      ],
      "execution_count": 0,
      "outputs": []
    },
    {
      "metadata": {
        "id": "lODx3NhzCMgW",
        "colab_type": "code",
        "colab": {}
      },
      "cell_type": "code",
      "source": [
        "gt = read_csv('pca_df.csv')"
      ],
      "execution_count": 0,
      "outputs": []
    },
    {
      "metadata": {
        "id": "BtdniHV8iFTH",
        "colab_type": "code",
        "colab": {
          "base_uri": "https://localhost:8080/",
          "height": 454
        },
        "outputId": "921dd72a-67d8-466c-9d39-c315e1ac69ab"
      },
      "cell_type": "code",
      "source": [
        "list(gt)"
      ],
      "execution_count": 4,
      "outputs": [
        {
          "output_type": "execute_result",
          "data": {
            "text/plain": [
              "['PC1',\n",
              " 'PC2',\n",
              " 'PC3',\n",
              " 'PC4',\n",
              " 'PC5',\n",
              " 'PC6',\n",
              " 'PC7',\n",
              " 'PC8',\n",
              " 'PC9',\n",
              " 'PC10',\n",
              " 'PC11',\n",
              " 'PC12',\n",
              " 'PC13',\n",
              " 'PC14',\n",
              " 'PC15',\n",
              " 'PC16',\n",
              " 'PC17',\n",
              " 'PC18',\n",
              " 'PC19',\n",
              " '.pose.pose.position.x',\n",
              " '.pose.pose.position.y',\n",
              " '.pose.pose.position.z',\n",
              " '.pose.pose.orientation.x',\n",
              " '.pose.pose.orientation.y',\n",
              " '.pose.pose.orientation.z',\n",
              " '.pose.pose.orientation.w']"
            ]
          },
          "metadata": {
            "tags": []
          },
          "execution_count": 4
        }
      ]
    },
    {
      "metadata": {
        "id": "8BiRCjwpCSvi",
        "colab_type": "code",
        "colab": {
          "base_uri": "https://localhost:8080/",
          "height": 739
        },
        "outputId": "828ab647-4d89-4410-a90b-8a45432472c7"
      },
      "cell_type": "code",
      "source": [
        "print(gt.head())\n",
        "gt = gt[[\".pose.pose.position.x\",\".pose.pose.position.y\"]]\n",
        "gt = gt.values\n",
        "print(gt)"
      ],
      "execution_count": 5,
      "outputs": [
        {
          "output_type": "stream",
          "text": [
            "        PC1       PC2       PC3       PC4       PC5       PC6       PC7  \\\n",
            "0 -0.851072  8.044216  0.326841 -1.044230  2.307484  1.075863  3.638323   \n",
            "1 -0.564265  8.143598  0.277990 -0.437284  1.891698  0.630888  3.733934   \n",
            "2 -0.344030  8.164862  0.485255 -0.638983  1.044315  1.209261  3.248368   \n",
            "3 -0.176959  8.179082  0.546207 -0.434098  0.953136  0.805202  3.497788   \n",
            "4 -0.109958  8.211974  0.486941 -0.138914  0.705735  0.631348  3.641314   \n",
            "\n",
            "        PC8       PC9      PC10            ...                 PC17      PC18  \\\n",
            "0  4.274178  2.717133 -0.704123            ...            -1.655194  1.958867   \n",
            "1  1.592049  2.517208 -0.030412            ...             0.399774  1.910119   \n",
            "2  4.415842  0.998141  0.345600            ...             1.202330  1.503087   \n",
            "3  2.762791  1.320751  0.095173            ...             0.692561  2.706914   \n",
            "4  3.152261  0.852382  0.061224            ...             0.396012  2.190524   \n",
            "\n",
            "       PC19  .pose.pose.position.x  .pose.pose.position.y  \\\n",
            "0  0.460268               0.909194              -0.086818   \n",
            "1 -0.349404               0.909462              -0.087017   \n",
            "2  0.549356               0.909194              -0.086818   \n",
            "3  0.255301               0.909194              -0.086818   \n",
            "4 -0.041790               0.909194              -0.086818   \n",
            "\n",
            "   .pose.pose.position.z  .pose.pose.orientation.x  .pose.pose.orientation.y  \\\n",
            "0               0.819903                  0.010896                  0.010932   \n",
            "1               0.819894                  0.011137                  0.011660   \n",
            "2               0.819903                  0.010896                  0.010932   \n",
            "3               0.819903                  0.010896                  0.010932   \n",
            "4               0.819903                  0.010896                  0.010932   \n",
            "\n",
            "   .pose.pose.orientation.z  .pose.pose.orientation.w  \n",
            "0                 -0.314718                  0.949060  \n",
            "1                 -0.314720                  0.949048  \n",
            "2                 -0.314718                  0.949060  \n",
            "3                 -0.314718                  0.949060  \n",
            "4                 -0.314718                  0.949060  \n",
            "\n",
            "[5 rows x 26 columns]\n",
            "[[ 0.90919352 -0.08681773]\n",
            " [ 0.90946156 -0.0870174 ]\n",
            " [ 0.90919352 -0.08681773]\n",
            " ...\n",
            " [ 1.85841024 -0.5969516 ]\n",
            " [ 1.85841024 -0.5969516 ]\n",
            " [ 1.85841024 -0.5969516 ]]\n"
          ],
          "name": "stdout"
        }
      ]
    },
    {
      "metadata": {
        "id": "oeRceI-PC22A",
        "colab_type": "code",
        "colab": {
          "base_uri": "https://localhost:8080/",
          "height": 50
        },
        "outputId": "2778d9a4-9f19-4778-f9f2-014b32a30f9b"
      },
      "cell_type": "code",
      "source": [
        "ft = read_csv('pca_df.csv')\n",
        "#print(ft)\n",
        "ft = ft.values[:,0:19]\n",
        "print(ft.shape)\n",
        "print(gt.shape)"
      ],
      "execution_count": 6,
      "outputs": [
        {
          "output_type": "stream",
          "text": [
            "(18126, 19)\n",
            "(18126, 2)\n"
          ],
          "name": "stdout"
        }
      ]
    },
    {
      "metadata": {
        "id": "mKcOyFIrlNx5",
        "colab_type": "code",
        "colab": {}
      },
      "cell_type": "code",
      "source": [
        "# convert series to supervised learning\n",
        "def series_to_supervised(data, n_in=1, n_out=1, dropnan=True):\n",
        "\tn_vars = 1 if type(data) is list else data.shape[1]\n",
        "\tdf = DataFrame(data)\n",
        "\tcols, names = list(), list()\n",
        "\t# input sequence (t-n, ... t-1)\n",
        "\tfor i in range(n_in, 0, -1):\n",
        "\t\tcols.append(df.shift(i))\n",
        "\t\tnames += [('var%d(t-%d)' % (j+1, i)) for j in range(n_vars)]\n",
        "\t# forecast sequence (t, t+1, ... t+n)\n",
        "\tfor i in range(0, n_out):\n",
        "\t\tcols.append(df.shift(-i))\n",
        "\t\tif i == 0:\n",
        "\t\t\tnames += [('var%d(t)' % (j+1)) for j in range(n_vars)]\n",
        "\t\telse:\n",
        "\t\t\tnames += [('var%d(t+%d)' % (j+1, i)) for j in range(n_vars)]\n",
        "\t# put it all together\n",
        "\tagg = concat(cols, axis=1)\n",
        "\tagg.columns = names\n",
        "\t# drop rows with NaN values\n",
        "\tif dropnan:\n",
        "\t\tagg.dropna(inplace=True)\n",
        "\treturn agg\n",
        "\n"
      ],
      "execution_count": 0,
      "outputs": []
    },
    {
      "metadata": {
        "id": "54WAui6YLEHv",
        "colab_type": "code",
        "colab": {
          "base_uri": "https://localhost:8080/",
          "height": 521
        },
        "outputId": "a2e682f5-fc9c-4da7-8d3d-516195145a90"
      },
      "cell_type": "code",
      "source": [
        "# normalize features\n",
        "ft_scaler = MinMaxScaler(feature_range=(-1, 1))\n",
        "ft_sc = ft_scaler.fit_transform(ft)\n",
        "#gt_scaler = MinMaxScaler(feature_range=(-1,1))\n",
        "#gt_sc = gt_scaler.fit_transform(gt)\n",
        "#specify the number of lag hours\n",
        "gt_sc=gt\n",
        "n_hours = 10\n",
        "n_features = 19\n",
        "# frame as supervised learning\n",
        "reframed = series_to_supervised(ft_sc, n_hours, 1)\n",
        "print(reframed.shape)\n",
        "print(reframed.head())"
      ],
      "execution_count": 8,
      "outputs": [
        {
          "output_type": "stream",
          "text": [
            "(18116, 209)\n",
            "    var1(t-10)  var2(t-10)  var3(t-10)  var4(t-10)  var5(t-10)  var6(t-10)  \\\n",
            "10   -0.715661    0.912124   -0.516294   -0.909127   -0.554948    0.013421   \n",
            "11   -0.700331    0.923405   -0.518159   -0.886534   -0.576755   -0.040784   \n",
            "12   -0.688560    0.925818   -0.510249   -0.894042   -0.621199    0.029671   \n",
            "13   -0.679630    0.927432   -0.507923   -0.886416   -0.625981   -0.019550   \n",
            "14   -0.676049    0.931166   -0.510185   -0.875428   -0.638956   -0.040728   \n",
            "\n",
            "    var7(t-10)  var8(t-10)  var9(t-10)  var10(t-10)    ...     var10(t)  \\\n",
            "10    0.655249    0.553081    0.373648    -0.045019    ...    -0.018136   \n",
            "11    0.673072    0.177793    0.345796    -0.021662    ...    -0.022740   \n",
            "12    0.582559    0.572903    0.134165    -0.008627    ...    -0.041608   \n",
            "13    0.629053    0.341605    0.179110    -0.017309    ...    -0.033457   \n",
            "14    0.655807    0.396101    0.113858    -0.018486    ...    -0.022294   \n",
            "\n",
            "    var11(t)  var12(t)  var13(t)  var14(t)  var15(t)  var16(t)  var17(t)  \\\n",
            "10 -0.093213 -0.117487  0.032858 -0.114945  0.007821 -0.203628  0.229093   \n",
            "11 -0.206459 -0.176782 -0.106458 -0.156829 -0.040433 -0.054196  0.305606   \n",
            "12 -0.100022 -0.190172 -0.007054 -0.080169 -0.115595 -0.018248  0.114461   \n",
            "13 -0.158344 -0.177171  0.135092  0.028306  0.122936 -0.100145  0.129553   \n",
            "14 -0.275555 -0.214899  0.054090 -0.127503 -0.019077 -0.066916  0.276438   \n",
            "\n",
            "    var18(t)  var19(t)  \n",
            "10 -0.030231 -0.253359  \n",
            "11  0.113269 -0.428118  \n",
            "12  0.114275 -0.429486  \n",
            "13  0.026465 -0.420714  \n",
            "14  0.090898 -0.354194  \n",
            "\n",
            "[5 rows x 209 columns]\n"
          ],
          "name": "stdout"
        }
      ]
    },
    {
      "metadata": {
        "id": "jCiWESjwn68u",
        "colab_type": "code",
        "colab": {
          "base_uri": "https://localhost:8080/",
          "height": 386
        },
        "outputId": "f713d659-27c8-4c2b-9ade-2bd5c2b6f3fa"
      },
      "cell_type": "code",
      "source": [
        "# split into train and test sets\n",
        "values = reframed.values\n",
        "n_train_hours = 10000\n",
        "train = values[:n_train_hours, :]\n",
        "test = values[n_train_hours:, :]\n",
        "# split into input and outputs\n",
        "n_obs = n_hours * n_features\n",
        "train_X, train_y = train[:, :n_obs], gt_sc[:n_train_hours,:]\n",
        "print(train_X)\n",
        "print(train_y)\n",
        "test_X, test_y = test[:, :n_obs], gt_sc[n_train_hours:,:]\n",
        "print(train_X.shape, len(train_X), train_y.shape)\n",
        "# reshape input to be 3D [samples, timesteps, features]\n",
        "train_X = train_X.reshape((train_X.shape[0], n_hours, n_features))\n",
        "test_X = test_X.reshape((test_X.shape[0], n_hours, n_features))\n",
        "print(train_X.shape, train_y.shape, test_X.shape, test_y.shape)\n",
        "test_y = test_y[:-10,:]"
      ],
      "execution_count": 9,
      "outputs": [
        {
          "output_type": "stream",
          "text": [
            "[[-0.71566087  0.91212421 -0.51629433 ...  0.12552099 -0.07823277\n",
            "  -0.27253581]\n",
            " [-0.7003313   0.92340481 -0.51815858 ...  0.22909346 -0.03023118\n",
            "  -0.25335908]\n",
            " [-0.68855996  0.92581842 -0.51024888 ...  0.30560588  0.11326897\n",
            "  -0.42811761]\n",
            " ...\n",
            " [-0.7607772  -0.12804698 -0.51093121 ...  0.02868932  0.0877397\n",
            "  -0.48286006]\n",
            " [-0.77243001 -0.12919634 -0.5096666  ... -0.15797009  0.08266238\n",
            "  -0.4530655 ]\n",
            " [-0.77116535 -0.13449095 -0.50725277 ...  0.13853906  0.15366004\n",
            "  -0.44799775]]\n",
            "[[ 0.90919352 -0.08681773]\n",
            " [ 0.90946156 -0.0870174 ]\n",
            " [ 0.90919352 -0.08681773]\n",
            " ...\n",
            " [ 1.26979244  0.29782158]\n",
            " [ 1.24536765  0.29915699]\n",
            " [ 1.23623121  0.30100036]]\n",
            "(10000, 190) 10000 (10000, 2)\n",
            "(10000, 10, 19) (10000, 2) (8116, 10, 19) (8126, 2)\n"
          ],
          "name": "stdout"
        }
      ]
    },
    {
      "metadata": {
        "id": "LFo8tVgSiFUV",
        "colab_type": "code",
        "colab": {}
      },
      "cell_type": "code",
      "source": [
        "HUBER_DELTA = 0.5\n",
        "def smoothL1(y_true, y_pred):\n",
        "    x= K.abs(y_true - y_pred)\n",
        "    x= K.switch(x < HUBER_DELTA, 0.5 * x ** 2, HUBER_DELTA * (x - 0.5 * HUBER_DELTA))\n",
        "    return  K.sum(x)"
      ],
      "execution_count": 0,
      "outputs": []
    },
    {
      "metadata": {
        "id": "fw13Fk6XiFUg",
        "colab_type": "code",
        "colab": {}
      },
      "cell_type": "code",
      "source": [
        "def dice_loss():\n",
        "    def dice(y_true, y_pred):\n",
        "        return smoothL1(y_true, y_pred)\n",
        "    return dice\n"
      ],
      "execution_count": 0,
      "outputs": []
    },
    {
      "metadata": {
        "id": "nKQxWCxwiFUw",
        "colab_type": "code",
        "colab": {
          "base_uri": "https://localhost:8080/",
          "height": 34
        },
        "outputId": "638adc9d-5fa6-42df-c663-b2d3382019fc"
      },
      "cell_type": "code",
      "source": [
        "print(train_X.shape[1])"
      ],
      "execution_count": 12,
      "outputs": [
        {
          "output_type": "stream",
          "text": [
            "10\n"
          ],
          "name": "stdout"
        }
      ]
    },
    {
      "metadata": {
        "id": "ao4YgnpYE0EB",
        "colab_type": "code",
        "colab": {
          "base_uri": "https://localhost:8080/",
          "height": 1037
        },
        "outputId": "5b0cbc75-3f14-483d-80e4-3b8085d1862c"
      },
      "cell_type": "code",
      "source": [
        "def create_model():\n",
        "    # create model\n",
        "    model = Sequential()\n",
        "    model.add(LSTM(50,input_shape=(train_X.shape[1],train_X.shape[2]),return_sequences=True,))\n",
        "    #model.add(Dropout(0.3))# return a single vector of dimension 32\n",
        "    model.add(LSTM(50,return_sequences=True,))  # returns a sequence of vectors of dimension 32\n",
        "    model.add(LSTM(50))  # returns a sequence of vectors of dimension 32\n",
        "\n",
        "    #model.add(Dense(100))\n",
        "    model.add(Dense(2))\n",
        "    model_dice = dice_loss()\n",
        "    # compile model\n",
        "    model.compile(loss=model_dice, optimizer='adam')\n",
        "    return model\n",
        "\n",
        "\n",
        "# design network\n",
        "#model = Sequential()\n",
        "#model.add(Dense(50))\n",
        "#model.add(Dense(100))\n",
        "#model.add(Dense(100))\n",
        "#model.add(Dropout(0.5))\n",
        "#model.add(LSTM(50,input_shape=(train_X.shape[1],train_X.shape[2]),return_sequences=True,))\n",
        "#model.add(Dropout(0.3))# return a single vector of dimension 32\n",
        "#model.add(LSTM(50,return_sequences=True,))  # returns a sequence of vectors of dimension 32\n",
        "#model.add(LSTM(50))  # returns a sequence of vectors of dimension 32\n",
        "\n",
        "#model.add(Dense(100))\n",
        "#model.add(Dense(2))\n",
        "#model_dice = dice_loss()\n",
        "# compile model\n",
        "#model.compile(loss=model_dice, optimizer='adam')\n",
        "\n",
        "model=create_model()\n",
        "#model.compile(loss='mae', optimizer='adam')\n",
        "# fit network\n",
        "history = model.fit(train_X, train_y, epochs=50, batch_size=150, validation_data=(test_X, test_y), verbose=2, shuffle=False)\n",
        "# plot history\n",
        "pyplot.plot(history.history['loss'], label='train')\n",
        "pyplot.plot(history.history['val_loss'], label='test')\n",
        "pyplot.legend()\n",
        "pyplot.show()"
      ],
      "execution_count": 0,
      "outputs": [
        {
          "output_type": "stream",
          "text": [
            "Train on 10000 samples, validate on 8116 samples\n",
            "Epoch 1/50\n",
            " - 17s - loss: 78.2808 - val_loss: 77.4951\n",
            "Epoch 2/50\n"
          ],
          "name": "stdout"
        },
        {
          "output_type": "error",
          "ename": "KeyboardInterrupt",
          "evalue": "",
          "traceback": [
            "\u001b[1;31m---------------------------------------------------------------------------\u001b[0m",
            "\u001b[1;31mKeyboardInterrupt\u001b[0m                         Traceback (most recent call last)",
            "\u001b[1;32m<ipython-input-15-b0b3d8c1aa2b>\u001b[0m in \u001b[0;36m<module>\u001b[1;34m()\u001b[0m\n\u001b[0;32m     35\u001b[0m \u001b[1;31m#model.compile(loss='mae', optimizer='adam')\u001b[0m\u001b[1;33m\u001b[0m\u001b[1;33m\u001b[0m\u001b[0m\n\u001b[0;32m     36\u001b[0m \u001b[1;31m# fit network\u001b[0m\u001b[1;33m\u001b[0m\u001b[1;33m\u001b[0m\u001b[0m\n\u001b[1;32m---> 37\u001b[1;33m \u001b[0mhistory\u001b[0m \u001b[1;33m=\u001b[0m \u001b[0mmodel\u001b[0m\u001b[1;33m.\u001b[0m\u001b[0mfit\u001b[0m\u001b[1;33m(\u001b[0m\u001b[0mtrain_X\u001b[0m\u001b[1;33m,\u001b[0m \u001b[0mtrain_y\u001b[0m\u001b[1;33m,\u001b[0m \u001b[0mepochs\u001b[0m\u001b[1;33m=\u001b[0m\u001b[1;36m50\u001b[0m\u001b[1;33m,\u001b[0m \u001b[0mbatch_size\u001b[0m\u001b[1;33m=\u001b[0m\u001b[1;36m150\u001b[0m\u001b[1;33m,\u001b[0m \u001b[0mvalidation_data\u001b[0m\u001b[1;33m=\u001b[0m\u001b[1;33m(\u001b[0m\u001b[0mtest_X\u001b[0m\u001b[1;33m,\u001b[0m \u001b[0mtest_y\u001b[0m\u001b[1;33m)\u001b[0m\u001b[1;33m,\u001b[0m \u001b[0mverbose\u001b[0m\u001b[1;33m=\u001b[0m\u001b[1;36m2\u001b[0m\u001b[1;33m,\u001b[0m \u001b[0mshuffle\u001b[0m\u001b[1;33m=\u001b[0m\u001b[1;32mFalse\u001b[0m\u001b[1;33m)\u001b[0m\u001b[1;33m\u001b[0m\u001b[0m\n\u001b[0m\u001b[0;32m     38\u001b[0m \u001b[1;31m# plot history\u001b[0m\u001b[1;33m\u001b[0m\u001b[1;33m\u001b[0m\u001b[0m\n\u001b[0;32m     39\u001b[0m \u001b[0mpyplot\u001b[0m\u001b[1;33m.\u001b[0m\u001b[0mplot\u001b[0m\u001b[1;33m(\u001b[0m\u001b[0mhistory\u001b[0m\u001b[1;33m.\u001b[0m\u001b[0mhistory\u001b[0m\u001b[1;33m[\u001b[0m\u001b[1;34m'loss'\u001b[0m\u001b[1;33m]\u001b[0m\u001b[1;33m,\u001b[0m \u001b[0mlabel\u001b[0m\u001b[1;33m=\u001b[0m\u001b[1;34m'train'\u001b[0m\u001b[1;33m)\u001b[0m\u001b[1;33m\u001b[0m\u001b[0m\n",
            "\u001b[1;32m~\\Anaconda3\\lib\\site-packages\\keras\\engine\\training.py\u001b[0m in \u001b[0;36mfit\u001b[1;34m(self, x, y, batch_size, epochs, verbose, callbacks, validation_split, validation_data, shuffle, class_weight, sample_weight, initial_epoch, steps_per_epoch, validation_steps, **kwargs)\u001b[0m\n\u001b[0;32m   1035\u001b[0m                                         \u001b[0minitial_epoch\u001b[0m\u001b[1;33m=\u001b[0m\u001b[0minitial_epoch\u001b[0m\u001b[1;33m,\u001b[0m\u001b[1;33m\u001b[0m\u001b[0m\n\u001b[0;32m   1036\u001b[0m                                         \u001b[0msteps_per_epoch\u001b[0m\u001b[1;33m=\u001b[0m\u001b[0msteps_per_epoch\u001b[0m\u001b[1;33m,\u001b[0m\u001b[1;33m\u001b[0m\u001b[0m\n\u001b[1;32m-> 1037\u001b[1;33m                                         validation_steps=validation_steps)\n\u001b[0m\u001b[0;32m   1038\u001b[0m \u001b[1;33m\u001b[0m\u001b[0m\n\u001b[0;32m   1039\u001b[0m     def evaluate(self, x=None, y=None,\n",
            "\u001b[1;32m~\\Anaconda3\\lib\\site-packages\\keras\\engine\\training_arrays.py\u001b[0m in \u001b[0;36mfit_loop\u001b[1;34m(model, f, ins, out_labels, batch_size, epochs, verbose, callbacks, val_f, val_ins, shuffle, callback_metrics, initial_epoch, steps_per_epoch, validation_steps)\u001b[0m\n\u001b[0;32m    197\u001b[0m                     \u001b[0mins_batch\u001b[0m\u001b[1;33m[\u001b[0m\u001b[0mi\u001b[0m\u001b[1;33m]\u001b[0m \u001b[1;33m=\u001b[0m \u001b[0mins_batch\u001b[0m\u001b[1;33m[\u001b[0m\u001b[0mi\u001b[0m\u001b[1;33m]\u001b[0m\u001b[1;33m.\u001b[0m\u001b[0mtoarray\u001b[0m\u001b[1;33m(\u001b[0m\u001b[1;33m)\u001b[0m\u001b[1;33m\u001b[0m\u001b[0m\n\u001b[0;32m    198\u001b[0m \u001b[1;33m\u001b[0m\u001b[0m\n\u001b[1;32m--> 199\u001b[1;33m                 \u001b[0mouts\u001b[0m \u001b[1;33m=\u001b[0m \u001b[0mf\u001b[0m\u001b[1;33m(\u001b[0m\u001b[0mins_batch\u001b[0m\u001b[1;33m)\u001b[0m\u001b[1;33m\u001b[0m\u001b[0m\n\u001b[0m\u001b[0;32m    200\u001b[0m                 \u001b[0mouts\u001b[0m \u001b[1;33m=\u001b[0m \u001b[0mto_list\u001b[0m\u001b[1;33m(\u001b[0m\u001b[0mouts\u001b[0m\u001b[1;33m)\u001b[0m\u001b[1;33m\u001b[0m\u001b[0m\n\u001b[0;32m    201\u001b[0m                 \u001b[1;32mfor\u001b[0m \u001b[0ml\u001b[0m\u001b[1;33m,\u001b[0m \u001b[0mo\u001b[0m \u001b[1;32min\u001b[0m \u001b[0mzip\u001b[0m\u001b[1;33m(\u001b[0m\u001b[0mout_labels\u001b[0m\u001b[1;33m,\u001b[0m \u001b[0mouts\u001b[0m\u001b[1;33m)\u001b[0m\u001b[1;33m:\u001b[0m\u001b[1;33m\u001b[0m\u001b[0m\n",
            "\u001b[1;32m~\\Anaconda3\\lib\\site-packages\\keras\\backend\\tensorflow_backend.py\u001b[0m in \u001b[0;36m__call__\u001b[1;34m(self, inputs)\u001b[0m\n\u001b[0;32m   2664\u001b[0m                 \u001b[1;32mreturn\u001b[0m \u001b[0mself\u001b[0m\u001b[1;33m.\u001b[0m\u001b[0m_legacy_call\u001b[0m\u001b[1;33m(\u001b[0m\u001b[0minputs\u001b[0m\u001b[1;33m)\u001b[0m\u001b[1;33m\u001b[0m\u001b[0m\n\u001b[0;32m   2665\u001b[0m \u001b[1;33m\u001b[0m\u001b[0m\n\u001b[1;32m-> 2666\u001b[1;33m             \u001b[1;32mreturn\u001b[0m \u001b[0mself\u001b[0m\u001b[1;33m.\u001b[0m\u001b[0m_call\u001b[0m\u001b[1;33m(\u001b[0m\u001b[0minputs\u001b[0m\u001b[1;33m)\u001b[0m\u001b[1;33m\u001b[0m\u001b[0m\n\u001b[0m\u001b[0;32m   2667\u001b[0m         \u001b[1;32melse\u001b[0m\u001b[1;33m:\u001b[0m\u001b[1;33m\u001b[0m\u001b[0m\n\u001b[0;32m   2668\u001b[0m             \u001b[1;32mif\u001b[0m \u001b[0mpy_any\u001b[0m\u001b[1;33m(\u001b[0m\u001b[0mis_tensor\u001b[0m\u001b[1;33m(\u001b[0m\u001b[0mx\u001b[0m\u001b[1;33m)\u001b[0m \u001b[1;32mfor\u001b[0m \u001b[0mx\u001b[0m \u001b[1;32min\u001b[0m \u001b[0minputs\u001b[0m\u001b[1;33m)\u001b[0m\u001b[1;33m:\u001b[0m\u001b[1;33m\u001b[0m\u001b[0m\n",
            "\u001b[1;32m~\\Anaconda3\\lib\\site-packages\\keras\\backend\\tensorflow_backend.py\u001b[0m in \u001b[0;36m_call\u001b[1;34m(self, inputs)\u001b[0m\n\u001b[0;32m   2634\u001b[0m                                 \u001b[0msymbol_vals\u001b[0m\u001b[1;33m,\u001b[0m\u001b[1;33m\u001b[0m\u001b[0m\n\u001b[0;32m   2635\u001b[0m                                 session)\n\u001b[1;32m-> 2636\u001b[1;33m         \u001b[0mfetched\u001b[0m \u001b[1;33m=\u001b[0m \u001b[0mself\u001b[0m\u001b[1;33m.\u001b[0m\u001b[0m_callable_fn\u001b[0m\u001b[1;33m(\u001b[0m\u001b[1;33m*\u001b[0m\u001b[0marray_vals\u001b[0m\u001b[1;33m)\u001b[0m\u001b[1;33m\u001b[0m\u001b[0m\n\u001b[0m\u001b[0;32m   2637\u001b[0m         \u001b[1;32mreturn\u001b[0m \u001b[0mfetched\u001b[0m\u001b[1;33m[\u001b[0m\u001b[1;33m:\u001b[0m\u001b[0mlen\u001b[0m\u001b[1;33m(\u001b[0m\u001b[0mself\u001b[0m\u001b[1;33m.\u001b[0m\u001b[0moutputs\u001b[0m\u001b[1;33m)\u001b[0m\u001b[1;33m]\u001b[0m\u001b[1;33m\u001b[0m\u001b[0m\n\u001b[0;32m   2638\u001b[0m \u001b[1;33m\u001b[0m\u001b[0m\n",
            "\u001b[1;32m~\\Anaconda3\\lib\\site-packages\\tensorflow\\python\\client\\session.py\u001b[0m in \u001b[0;36m__call__\u001b[1;34m(self, *args, **kwargs)\u001b[0m\n\u001b[0;32m   1380\u001b[0m           ret = tf_session.TF_SessionRunCallable(\n\u001b[0;32m   1381\u001b[0m               \u001b[0mself\u001b[0m\u001b[1;33m.\u001b[0m\u001b[0m_session\u001b[0m\u001b[1;33m.\u001b[0m\u001b[0m_session\u001b[0m\u001b[1;33m,\u001b[0m \u001b[0mself\u001b[0m\u001b[1;33m.\u001b[0m\u001b[0m_handle\u001b[0m\u001b[1;33m,\u001b[0m \u001b[0margs\u001b[0m\u001b[1;33m,\u001b[0m \u001b[0mstatus\u001b[0m\u001b[1;33m,\u001b[0m\u001b[1;33m\u001b[0m\u001b[0m\n\u001b[1;32m-> 1382\u001b[1;33m               run_metadata_ptr)\n\u001b[0m\u001b[0;32m   1383\u001b[0m         \u001b[1;32mif\u001b[0m \u001b[0mrun_metadata\u001b[0m\u001b[1;33m:\u001b[0m\u001b[1;33m\u001b[0m\u001b[0m\n\u001b[0;32m   1384\u001b[0m           \u001b[0mproto_data\u001b[0m \u001b[1;33m=\u001b[0m \u001b[0mtf_session\u001b[0m\u001b[1;33m.\u001b[0m\u001b[0mTF_GetBuffer\u001b[0m\u001b[1;33m(\u001b[0m\u001b[0mrun_metadata_ptr\u001b[0m\u001b[1;33m)\u001b[0m\u001b[1;33m\u001b[0m\u001b[0m\n",
            "\u001b[1;31mKeyboardInterrupt\u001b[0m: "
          ]
        }
      ]
    },
    {
      "metadata": {
        "id": "-viW5bQjiFVF",
        "colab_type": "code",
        "colab": {}
      },
      "cell_type": "code",
      "source": [
        "from sklearn.cross_validation import StratifiedKFold, cross_val_score\n",
        "from sklearn import grid_search\n",
        "from sklearn.metrics import classification_report\n",
        "from sklearn.metrics import mean_squared_error\n",
        "import multiprocessing\n",
        "\n",
        "from keras.wrappers.scikit_learn import KerasClassifier\n",
        "\n",
        "def supermetrics(y_true,y_pred):\n",
        "  #y_p=np.asarray(y_pred)\n",
        "  #y_t=np.asarray(y_true)\n",
        "  y_p=K.batch_get_value(y_pred)\n",
        "  y_t=K.batch_get_value(y_true)\n",
        "  return mean_squared_error(y_t,y_p)\n",
        "\n",
        "def create_model():\n",
        "    # create model\n",
        "    model = Sequential()\n",
        "    model.add(LSTM(50,input_shape=(train_X.shape[1],train_X.shape[2]),return_sequences=True,))\n",
        "    #model.add(Dropout(0.3))# return a single vector of dimension 32\n",
        "    model.add(LSTM(50,return_sequences=True,))  # returns a sequence of vectors of dimension 32\n",
        "    model.add(LSTM(50))  # returns a sequence of vectors of dimension 32\n",
        "\n",
        "    #model.add(Dense(100))\n",
        "    model.add(Dense(2))\n",
        "    model_dice = dice_loss()\n",
        "    # compile model\n",
        "    model.compile(loss=model_dice, optimizer='adam',metrics=['mse'])\n",
        "    return model\n",
        "\n",
        "\n",
        "#model=create_model()\n",
        "\n",
        "model = KerasClassifier(build_fn=create_model, verbose=0)\n",
        "# define the grid search parameters\n",
        "batch_size = [25]\n",
        "epochs = [5, 10]\n",
        "param_grid = dict(batch_size=batch_size, epochs=epochs)\n",
        "model_dice = dice_loss()\n",
        "grid = grid_search.GridSearchCV(estimator=model, param_grid=param_grid, n_jobs=-1)\n",
        "grid_result = grid.fit(train_X, train_y)\n",
        "# summarize results\n",
        "print(\"Best: %f using %s\" % (grid_result.best_score_, grid_result.best_params_))\n",
        "#model.compile(loss='mae', optimizer='adam')\n",
        "# fit network\n"
      ],
      "execution_count": 0,
      "outputs": []
    },
    {
      "metadata": {
        "id": "i5W8gwIcoAZK",
        "colab_type": "code",
        "colab": {}
      },
      "cell_type": "code",
      "source": [
        "# make a prediction\n",
        "yhat = model.predict(test_X)\n",
        "yhat2 = model.predict(train_X)\n",
        "\n",
        "# calculate RMSE\n",
        "rmse = sqrt(mean_squared_error(yhat, test_y))\n",
        "rmse2 = sqrt(mean_squared_error(yhat, test_y))\n",
        "print('Test RMSE: %.3f' % rmse)"
      ],
      "execution_count": 0,
      "outputs": []
    },
    {
      "metadata": {
        "id": "hbQ6-fYNdCQ_",
        "colab_type": "code",
        "colab": {}
      },
      "cell_type": "code",
      "source": [
        "\n",
        "ypred = model.predict(train_X)\n",
        "x = np.linspace(0,ypred.shape[0], ypred.shape[0]).reshape(ypred.shape[0],)\n",
        "pyplot.plot(ypred[:,1],'r')\n",
        "pyplot.plot(train_y[:,1],'b')\n",
        "error=np.abs(ypred[:,[1]]-train_y[:,[1]])\n",
        "pyplot.fill_between(x,(ypred[:,[1]]-error).reshape(ypred.shape[0],), (ypred[:,[1]]+error).reshape(ypred.shape[0],))\n",
        "pyplot.show()\n",
        "#ypred = model.predict(train_X)\n",
        "x = np.linspace(0,ypred.shape[0], ypred.shape[0]).reshape(ypred.shape[0],)\n",
        "pyplot.plot(ypred[:,0],'r')\n",
        "pyplot.plot(train_y[:,0],'b')\n",
        "error=np.abs(ypred[:,[0]]-train_y[:,[0]])\n",
        "pyplot.fill_between(x,(ypred[:,[0]]-error).reshape(ypred.shape[0],), (ypred[:,[0]]+error).reshape(ypred.shape[0],))\n",
        "pyplot.show()"
      ],
      "execution_count": 0,
      "outputs": []
    },
    {
      "metadata": {
        "id": "85JJZKw1pSmF",
        "colab_type": "code",
        "colab": {}
      },
      "cell_type": "code",
      "source": [
        "x = np.linspace(0,yhat.shape[0], yhat.shape[0]).reshape(yhat.shape[0],)\n",
        "pyplot.plot(yhat[:,[1]],'r')\n",
        "pyplot.plot(test_y[:,[1]],'orange')\n",
        "error=np.abs(yhat[:,[1]]-test_y[:,[1]])\n",
        "pyplot.fill_between(x,(yhat[:,[1]]-error).reshape(yhat.shape[0],), (yhat[:,[1]]+error).reshape(yhat.shape[0],))\n",
        "pyplot.show()\n",
        "pyplot.plot(yhat[:,[0]],'r')\n",
        "pyplot.plot(test_y[:,[0]],'orange')\n",
        "error=np.abs(yhat[:,[0]]-test_y[:,[0]])\n",
        "pyplot.fill_between(x,(yhat[:,[0]]-error).reshape(yhat.shape[0],), (yhat[:,[0]]+error).reshape(yhat.shape[0],))\n",
        "pyplot.show()"
      ],
      "execution_count": 0,
      "outputs": []
    },
    {
      "metadata": {
        "id": "eGDvwV02UlCD",
        "colab_type": "code",
        "colab": {}
      },
      "cell_type": "code",
      "source": [
        "pyplot.plot(gt_sc)\n",
        "pyplot.show()"
      ],
      "execution_count": 0,
      "outputs": []
    }
  ]
}