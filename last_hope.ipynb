{
 "cells": [
  {
   "cell_type": "code",
   "execution_count": 1,
   "metadata": {
    "colab": {
     "base_uri": "https://localhost:8080/",
     "height": 34
    },
    "colab_type": "code",
    "id": "BUNqBonblBRn",
    "outputId": "478f86c2-776f-493a-f1b8-f5160e5b478d"
   },
   "outputs": [
    {
     "name": "stderr",
     "output_type": "stream",
     "text": [
      "Using TensorFlow backend.\n"
     ]
    }
   ],
   "source": [
    "from math import sqrt\n",
    "from numpy import concatenate\n",
    "from matplotlib import pyplot\n",
    "from pandas import read_csv\n",
    "from pandas import DataFrame\n",
    "from pandas import concat\n",
    "from sklearn.preprocessing import MinMaxScaler\n",
    "from sklearn.preprocessing import LabelEncoder\n",
    "from sklearn.metrics import mean_squared_error\n",
    "from keras.models import Sequential\n",
    "from keras.layers import Dense\n",
    "from keras.layers import LSTM\n",
    "\n"
   ]
  },
  {
   "cell_type": "code",
   "execution_count": 2,
   "metadata": {},
   "outputs": [],
   "source": [
    "import numpy as np"
   ]
  },
  {
   "cell_type": "code",
   "execution_count": 3,
   "metadata": {
    "colab": {},
    "colab_type": "code",
    "id": "lODx3NhzCMgW"
   },
   "outputs": [],
   "source": [
    "gt = read_csv('pca_df.csv')"
   ]
  },
  {
   "cell_type": "code",
   "execution_count": 4,
   "metadata": {},
   "outputs": [
    {
     "data": {
      "text/plain": [
       "['PC1',\n",
       " 'PC2',\n",
       " 'PC3',\n",
       " 'PC4',\n",
       " 'PC5',\n",
       " 'PC6',\n",
       " 'PC7',\n",
       " 'PC8',\n",
       " 'PC9',\n",
       " 'PC10',\n",
       " 'PC11',\n",
       " 'PC12',\n",
       " 'PC13',\n",
       " 'PC14',\n",
       " 'PC15',\n",
       " 'PC16',\n",
       " 'PC17',\n",
       " 'PC18',\n",
       " 'PC19',\n",
       " '.pose.pose.position.x',\n",
       " '.pose.pose.position.y',\n",
       " '.pose.pose.position.z',\n",
       " '.pose.pose.orientation.x',\n",
       " '.pose.pose.orientation.y',\n",
       " '.pose.pose.orientation.z',\n",
       " '.pose.pose.orientation.w']"
      ]
     },
     "execution_count": 4,
     "metadata": {},
     "output_type": "execute_result"
    }
   ],
   "source": [
    "list(gt)"
   ]
  },
  {
   "cell_type": "code",
   "execution_count": 5,
   "metadata": {
    "colab": {
     "base_uri": "https://localhost:8080/",
     "height": 486
    },
    "colab_type": "code",
    "id": "8BiRCjwpCSvi",
    "outputId": "4ce0bf76-75fa-45c9-f6ee-b893fe09b644"
   },
   "outputs": [
    {
     "name": "stdout",
     "output_type": "stream",
     "text": [
      "        PC1       PC2       PC3       PC4       PC5       PC6       PC7  \\\n",
      "0 -0.851072  8.044216  0.326841 -1.044230  2.307484  1.075863  3.638323   \n",
      "1 -0.564265  8.143598  0.277990 -0.437284  1.891698  0.630888  3.733934   \n",
      "2 -0.344030  8.164862  0.485255 -0.638983  1.044315  1.209261  3.248368   \n",
      "3 -0.176959  8.179082  0.546207 -0.434098  0.953136  0.805202  3.497788   \n",
      "4 -0.109958  8.211974  0.486941 -0.138914  0.705735  0.631348  3.641314   \n",
      "\n",
      "        PC8       PC9      PC10            ...                 PC17      PC18  \\\n",
      "0  4.274178  2.717133 -0.704123            ...            -1.655194  1.958867   \n",
      "1  1.592049  2.517208 -0.030412            ...             0.399774  1.910119   \n",
      "2  4.415842  0.998141  0.345600            ...             1.202330  1.503087   \n",
      "3  2.762791  1.320751  0.095173            ...             0.692561  2.706914   \n",
      "4  3.152261  0.852382  0.061224            ...             0.396012  2.190524   \n",
      "\n",
      "       PC19  .pose.pose.position.x  .pose.pose.position.y  \\\n",
      "0  0.460268               0.909194              -0.086818   \n",
      "1 -0.349404               0.909462              -0.087017   \n",
      "2  0.549356               0.909194              -0.086818   \n",
      "3  0.255301               0.909194              -0.086818   \n",
      "4 -0.041790               0.909194              -0.086818   \n",
      "\n",
      "   .pose.pose.position.z  .pose.pose.orientation.x  .pose.pose.orientation.y  \\\n",
      "0               0.819903                  0.010896                  0.010932   \n",
      "1               0.819894                  0.011137                  0.011660   \n",
      "2               0.819903                  0.010896                  0.010932   \n",
      "3               0.819903                  0.010896                  0.010932   \n",
      "4               0.819903                  0.010896                  0.010932   \n",
      "\n",
      "   .pose.pose.orientation.z  .pose.pose.orientation.w  \n",
      "0                 -0.314718                  0.949060  \n",
      "1                 -0.314720                  0.949048  \n",
      "2                 -0.314718                  0.949060  \n",
      "3                 -0.314718                  0.949060  \n",
      "4                 -0.314718                  0.949060  \n",
      "\n",
      "[5 rows x 26 columns]\n",
      "[[ 0.90919352 -0.08681773  0.01089559  0.01093195 -0.31471806  0.94905971]\n",
      " [ 0.90946156 -0.0870174   0.01113683  0.01165991 -0.31471966  0.94904771]\n",
      " [ 0.90919352 -0.08681773  0.01089559  0.01093195 -0.31471806  0.94905971]\n",
      " ...\n",
      " [ 1.85841024 -0.5969516   0.02216641  0.00725551 -0.7005108   0.71326056]\n",
      " [ 1.85841024 -0.5969516   0.02216641  0.00725551 -0.7005108   0.71326056]\n",
      " [ 1.85841024 -0.5969516   0.02216641  0.00725551 -0.7005108   0.71326056]]\n"
     ]
    }
   ],
   "source": [
    "print(gt.head())\n",
    "gt = gt[[\".pose.pose.position.x\",\".pose.pose.position.y\",'.pose.pose.orientation.x','.pose.pose.orientation.y','.pose.pose.orientation.z','.pose.pose.orientation.w']]\n",
    "gt = gt.values\n",
    "print(gt)"
   ]
  },
  {
   "cell_type": "code",
   "execution_count": 6,
   "metadata": {
    "colab": {
     "base_uri": "https://localhost:8080/",
     "height": 243
    },
    "colab_type": "code",
    "id": "oeRceI-PC22A",
    "outputId": "060403ee-c6e8-472f-ac28-1e19383f8708"
   },
   "outputs": [
    {
     "name": "stdout",
     "output_type": "stream",
     "text": [
      "(18126, 19)\n",
      "(18126, 6)\n"
     ]
    }
   ],
   "source": [
    "ft = read_csv('pca_df.csv')\n",
    "#print(ft)\n",
    "ft = ft.values[:,0:19]\n",
    "print(ft.shape)\n",
    "print(gt.shape)"
   ]
  },
  {
   "cell_type": "code",
   "execution_count": 7,
   "metadata": {
    "colab": {},
    "colab_type": "code",
    "id": "mKcOyFIrlNx5"
   },
   "outputs": [],
   "source": [
    "# convert series to supervised learning\n",
    "def series_to_supervised(data, n_in=1, n_out=1, dropnan=True):\n",
    "\tn_vars = 1 if type(data) is list else data.shape[1]\n",
    "\tdf = DataFrame(data)\n",
    "\tcols, names = list(), list()\n",
    "\t# input sequence (t-n, ... t-1)\n",
    "\tfor i in range(n_in, 0, -1):\n",
    "\t\tcols.append(df.shift(i))\n",
    "\t\tnames += [('var%d(t-%d)' % (j+1, i)) for j in range(n_vars)]\n",
    "\t# forecast sequence (t, t+1, ... t+n)\n",
    "\tfor i in range(0, n_out):\n",
    "\t\tcols.append(df.shift(-i))\n",
    "\t\tif i == 0:\n",
    "\t\t\tnames += [('var%d(t)' % (j+1)) for j in range(n_vars)]\n",
    "\t\telse:\n",
    "\t\t\tnames += [('var%d(t+%d)' % (j+1, i)) for j in range(n_vars)]\n",
    "\t# put it all together\n",
    "\tagg = concat(cols, axis=1)\n",
    "\tagg.columns = names\n",
    "\t# drop rows with NaN values\n",
    "\tif dropnan:\n",
    "\t\tagg.dropna(inplace=True)\n",
    "\treturn agg\n",
    "\n"
   ]
  },
  {
   "cell_type": "code",
   "execution_count": 8,
   "metadata": {
    "colab": {
     "base_uri": "https://localhost:8080/",
     "height": 538
    },
    "colab_type": "code",
    "id": "54WAui6YLEHv",
    "outputId": "a933a6cd-cd2f-4ea2-cdfb-f1d674ae9d7a"
   },
   "outputs": [
    {
     "name": "stdout",
     "output_type": "stream",
     "text": [
      "(18116, 209)\n",
      "    var1(t-10)  var2(t-10)  var3(t-10)  var4(t-10)  var5(t-10)  var6(t-10)  \\\n",
      "10   -0.715661    0.912124   -0.516294   -0.909127   -0.554948    0.013421   \n",
      "11   -0.700331    0.923405   -0.518159   -0.886534   -0.576755   -0.040784   \n",
      "12   -0.688560    0.925818   -0.510249   -0.894042   -0.621199    0.029671   \n",
      "13   -0.679630    0.927432   -0.507923   -0.886416   -0.625981   -0.019550   \n",
      "14   -0.676049    0.931166   -0.510185   -0.875428   -0.638956   -0.040728   \n",
      "\n",
      "    var7(t-10)  var8(t-10)  var9(t-10)  var10(t-10)    ...     var10(t)  \\\n",
      "10    0.655249    0.553081    0.373648    -0.045019    ...    -0.018136   \n",
      "11    0.673072    0.177793    0.345796    -0.021662    ...    -0.022740   \n",
      "12    0.582559    0.572903    0.134165    -0.008627    ...    -0.041608   \n",
      "13    0.629053    0.341605    0.179110    -0.017309    ...    -0.033457   \n",
      "14    0.655807    0.396101    0.113858    -0.018486    ...    -0.022294   \n",
      "\n",
      "    var11(t)  var12(t)  var13(t)  var14(t)  var15(t)  var16(t)  var17(t)  \\\n",
      "10 -0.093213 -0.117487  0.032858 -0.114945  0.007821 -0.203628  0.229093   \n",
      "11 -0.206459 -0.176782 -0.106458 -0.156829 -0.040433 -0.054196  0.305606   \n",
      "12 -0.100022 -0.190172 -0.007054 -0.080169 -0.115595 -0.018248  0.114461   \n",
      "13 -0.158344 -0.177171  0.135092  0.028306  0.122936 -0.100145  0.129553   \n",
      "14 -0.275555 -0.214899  0.054090 -0.127503 -0.019077 -0.066916  0.276438   \n",
      "\n",
      "    var18(t)  var19(t)  \n",
      "10 -0.030231 -0.253359  \n",
      "11  0.113269 -0.428118  \n",
      "12  0.114275 -0.429486  \n",
      "13  0.026465 -0.420714  \n",
      "14  0.090898 -0.354194  \n",
      "\n",
      "[5 rows x 209 columns]\n"
     ]
    }
   ],
   "source": [
    "# normalize features\n",
    "ft_scaler = MinMaxScaler(feature_range=(-1, 1))\n",
    "ft_sc = ft_scaler.fit_transform(ft)\n",
    "#gt_scaler = MinMaxScaler(feature_range=(-1,1))\n",
    "#gt_sc = gt_scaler.fit_transform(gt)\n",
    "#specify the number of lag hours\n",
    "gt_sc=gt\n",
    "n_hours = 10\n",
    "n_features = 19\n",
    "# frame as supervised learning\n",
    "reframed = series_to_supervised(ft_sc, n_hours, 1)\n",
    "print(reframed.shape)\n",
    "print(reframed.head())"
   ]
  },
  {
   "cell_type": "code",
   "execution_count": 9,
   "metadata": {
    "colab": {
     "base_uri": "https://localhost:8080/",
     "height": 399
    },
    "colab_type": "code",
    "id": "jCiWESjwn68u",
    "outputId": "73ce774b-e8e1-4c50-8c4f-fbdfb98d13ba"
   },
   "outputs": [
    {
     "name": "stdout",
     "output_type": "stream",
     "text": [
      "[[-0.71566087  0.91212421 -0.51629433 ...  0.12552099 -0.07823277\n",
      "  -0.27253581]\n",
      " [-0.7003313   0.92340481 -0.51815858 ...  0.22909346 -0.03023118\n",
      "  -0.25335908]\n",
      " [-0.68855996  0.92581842 -0.51024888 ...  0.30560588  0.11326897\n",
      "  -0.42811761]\n",
      " ...\n",
      " [-0.7607772  -0.12804698 -0.51093121 ...  0.02868932  0.0877397\n",
      "  -0.48286006]\n",
      " [-0.77243001 -0.12919634 -0.5096666  ... -0.15797009  0.08266238\n",
      "  -0.4530655 ]\n",
      " [-0.77116535 -0.13449095 -0.50725277 ...  0.13853906  0.15366004\n",
      "  -0.44799775]]\n",
      "[[ 0.90919352 -0.08681773  0.01089559  0.01093195 -0.31471806  0.94905971]\n",
      " [ 0.90946156 -0.0870174   0.01113683  0.01165991 -0.31471966  0.94904771]\n",
      " [ 0.90919352 -0.08681773  0.01089559  0.01093195 -0.31471806  0.94905971]\n",
      " ...\n",
      " [ 1.26979244  0.29782158  0.00141868  0.03304494  0.68734164  0.7255808 ]\n",
      " [ 1.24536765  0.29915699  0.00305932  0.03137151  0.68609035  0.7268332 ]\n",
      " [ 1.23623121  0.30100036  0.00363177  0.03080919  0.68503638  0.72784804]]\n",
      "(10000, 190) 10000 (10000, 6)\n",
      "(10000, 10, 19) (10000, 6) (8116, 10, 19) (8126, 6)\n"
     ]
    }
   ],
   "source": [
    "# split into train and test sets\n",
    "values = reframed.values\n",
    "n_train_hours = 10000\n",
    "train = values[:n_train_hours, :]\n",
    "test = values[n_train_hours:, :]\n",
    "# split into input and outputs\n",
    "n_obs = n_hours * n_features\n",
    "train_X, train_y = train[:, :n_obs], gt_sc[:n_train_hours,:]\n",
    "print(train_X)\n",
    "print(train_y)\n",
    "test_X, test_y = test[:, :n_obs], gt_sc[n_train_hours:,:]\n",
    "print(train_X.shape, len(train_X), train_y.shape)\n",
    "# reshape input to be 3D [samples, timesteps, features]\n",
    "train_X = train_X.reshape((train_X.shape[0], n_hours, n_features))\n",
    "test_X = test_X.reshape((test_X.shape[0], n_hours, n_features))\n",
    "print(train_X.shape, train_y.shape, test_X.shape, test_y.shape)\n",
    "test_y = test_y[:-10,:]"
   ]
  },
  {
   "cell_type": "code",
   "execution_count": null,
   "metadata": {
    "colab": {
     "base_uri": "https://localhost:8080/",
     "height": 1037
    },
    "colab_type": "code",
    "id": "ao4YgnpYE0EB",
    "outputId": "5b0cbc75-3f14-483d-80e4-3b8085d1862c",
    "scrolled": false
   },
   "outputs": [
    {
     "name": "stdout",
     "output_type": "stream",
     "text": [
      "Train on 10000 samples, validate on 8116 samples\n",
      "Epoch 1/200\n",
      " - 7s - loss: 0.4051 - val_loss: 0.4491\n",
      "Epoch 2/200\n",
      " - 3s - loss: 0.3929 - val_loss: 0.4431\n",
      "Epoch 3/200\n",
      " - 3s - loss: 0.3761 - val_loss: 0.4408\n",
      "Epoch 4/200\n",
      " - 3s - loss: 0.3715 - val_loss: 0.4450\n",
      "Epoch 5/200\n",
      " - 3s - loss: 0.3735 - val_loss: 0.4503\n",
      "Epoch 6/200\n",
      " - 3s - loss: 0.3692 - val_loss: 0.4515\n",
      "Epoch 7/200\n",
      " - 3s - loss: 0.3679 - val_loss: 0.4568\n",
      "Epoch 8/200\n",
      " - 3s - loss: 0.3670 - val_loss: 0.4643\n",
      "Epoch 9/200\n",
      " - 3s - loss: 0.3663 - val_loss: 0.4732\n",
      "Epoch 10/200\n",
      " - 3s - loss: 0.3646 - val_loss: 0.4759\n",
      "Epoch 11/200\n",
      " - 3s - loss: 0.3635 - val_loss: 0.4680\n",
      "Epoch 12/200\n",
      " - 3s - loss: 0.3619 - val_loss: 0.4679\n",
      "Epoch 13/200\n",
      " - 3s - loss: 0.3601 - val_loss: 0.4629\n",
      "Epoch 14/200\n",
      " - 3s - loss: 0.3606 - val_loss: 0.4642\n",
      "Epoch 15/200\n",
      " - 3s - loss: 0.3586 - val_loss: 0.4614\n",
      "Epoch 16/200\n",
      " - 3s - loss: 0.3581 - val_loss: 0.4613\n",
      "Epoch 17/200\n",
      " - 3s - loss: 0.3575 - val_loss: 0.4591\n",
      "Epoch 18/200\n",
      " - 3s - loss: 0.3563 - val_loss: 0.4564\n",
      "Epoch 19/200\n",
      " - 4s - loss: 0.3558 - val_loss: 0.4570\n",
      "Epoch 20/200\n",
      " - 3s - loss: 0.3550 - val_loss: 0.4571\n",
      "Epoch 21/200\n",
      " - 3s - loss: 0.3540 - val_loss: 0.4566\n",
      "Epoch 22/200\n",
      " - 3s - loss: 0.3530 - val_loss: 0.4559\n",
      "Epoch 23/200\n",
      " - 3s - loss: 0.3525 - val_loss: 0.4523\n",
      "Epoch 24/200\n",
      " - 3s - loss: 0.3513 - val_loss: 0.4535\n",
      "Epoch 25/200\n",
      " - 4s - loss: 0.3493 - val_loss: 0.4544\n",
      "Epoch 26/200\n",
      " - 5s - loss: 0.3495 - val_loss: 0.4503\n",
      "Epoch 27/200\n",
      " - 4s - loss: 0.3481 - val_loss: 0.4520\n",
      "Epoch 28/200\n",
      " - 4s - loss: 0.3480 - val_loss: 0.4529\n",
      "Epoch 29/200\n",
      " - 4s - loss: 0.3467 - val_loss: 0.4534\n",
      "Epoch 30/200\n",
      " - 4s - loss: 0.3463 - val_loss: 0.4548\n",
      "Epoch 31/200\n",
      " - 3s - loss: 0.3453 - val_loss: 0.4557\n",
      "Epoch 32/200\n",
      " - 3s - loss: 0.3422 - val_loss: 0.4599\n",
      "Epoch 33/200\n",
      " - 3s - loss: 0.3436 - val_loss: 0.4546\n",
      "Epoch 34/200\n",
      " - 3s - loss: 0.3404 - val_loss: 0.4590\n",
      "Epoch 35/200\n",
      " - 3s - loss: 0.3400 - val_loss: 0.4594\n",
      "Epoch 36/200\n",
      " - 3s - loss: 0.3374 - val_loss: 0.4602\n",
      "Epoch 37/200\n",
      " - 3s - loss: 0.3362 - val_loss: 0.4627\n",
      "Epoch 38/200\n",
      " - 3s - loss: 0.3347 - val_loss: 0.4647\n",
      "Epoch 39/200\n",
      " - 3s - loss: 0.3341 - val_loss: 0.4696\n",
      "Epoch 40/200\n",
      " - 3s - loss: 0.3327 - val_loss: 0.4717\n",
      "Epoch 41/200\n",
      " - 3s - loss: 0.3312 - val_loss: 0.4749\n",
      "Epoch 42/200\n",
      " - 3s - loss: 0.3303 - val_loss: 0.4745\n",
      "Epoch 43/200\n",
      " - 3s - loss: 0.3288 - val_loss: 0.4778\n",
      "Epoch 44/200\n",
      " - 3s - loss: 0.3276 - val_loss: 0.4766\n",
      "Epoch 45/200\n",
      " - 3s - loss: 0.3272 - val_loss: 0.4773\n",
      "Epoch 46/200\n",
      " - 3s - loss: 0.3264 - val_loss: 0.4784\n",
      "Epoch 47/200\n",
      " - 3s - loss: 0.3257 - val_loss: 0.4719\n",
      "Epoch 48/200\n",
      " - 3s - loss: 0.3242 - val_loss: 0.4670\n",
      "Epoch 49/200\n",
      " - 3s - loss: 0.3230 - val_loss: 0.4621\n",
      "Epoch 50/200\n",
      " - 3s - loss: 0.3209 - val_loss: 0.4627\n",
      "Epoch 51/200\n",
      " - 3s - loss: 0.3208 - val_loss: 0.4651\n",
      "Epoch 52/200\n",
      " - 3s - loss: 0.3180 - val_loss: 0.4695\n",
      "Epoch 53/200\n",
      " - 4s - loss: 0.3176 - val_loss: 0.4719\n",
      "Epoch 54/200\n",
      " - 3s - loss: 0.3155 - val_loss: 0.4795\n",
      "Epoch 55/200\n",
      " - 3s - loss: 0.3146 - val_loss: 0.4849\n",
      "Epoch 56/200\n",
      " - 3s - loss: 0.3134 - val_loss: 0.4771\n",
      "Epoch 57/200\n",
      " - 3s - loss: 0.3122 - val_loss: 0.4988\n",
      "Epoch 58/200\n",
      " - 3s - loss: 0.3100 - val_loss: 0.5018\n",
      "Epoch 59/200\n",
      " - 3s - loss: 0.3067 - val_loss: 0.5416\n",
      "Epoch 60/200\n",
      " - 3s - loss: 0.3062 - val_loss: 0.5385\n",
      "Epoch 61/200\n",
      " - 3s - loss: 0.3034 - val_loss: 0.5750\n",
      "Epoch 62/200\n",
      " - 3s - loss: 0.3018 - val_loss: 0.5657\n",
      "Epoch 63/200\n",
      " - 3s - loss: 0.2999 - val_loss: 0.6146\n",
      "Epoch 64/200\n",
      " - 3s - loss: 0.2992 - val_loss: 0.5880\n",
      "Epoch 65/200\n",
      " - 3s - loss: 0.2976 - val_loss: 0.6186\n",
      "Epoch 66/200\n",
      " - 3s - loss: 0.2956 - val_loss: 0.5948\n",
      "Epoch 67/200\n",
      " - 3s - loss: 0.2948 - val_loss: 0.6029\n",
      "Epoch 68/200\n",
      " - 3s - loss: 0.2968 - val_loss: 0.5717\n",
      "Epoch 69/200\n",
      " - 3s - loss: 0.2913 - val_loss: 0.5710\n",
      "Epoch 70/200\n",
      " - 4s - loss: 0.2887 - val_loss: 0.5426\n",
      "Epoch 71/200\n",
      " - 3s - loss: 0.2907 - val_loss: 0.5495\n",
      "Epoch 72/200\n",
      " - 3s - loss: 0.2891 - val_loss: 0.5494\n",
      "Epoch 73/200\n",
      " - 3s - loss: 0.2857 - val_loss: 0.5446\n",
      "Epoch 74/200\n",
      " - 4s - loss: 0.2827 - val_loss: 0.5075\n",
      "Epoch 75/200\n",
      " - 4s - loss: 0.2809 - val_loss: 0.5114\n",
      "Epoch 76/200\n",
      " - 3s - loss: 0.2815 - val_loss: 0.5575\n",
      "Epoch 77/200\n",
      " - 3s - loss: 0.2800 - val_loss: 0.5166\n",
      "Epoch 78/200\n",
      " - 3s - loss: 0.2803 - val_loss: 0.5229\n",
      "Epoch 79/200\n",
      " - 3s - loss: 0.2757 - val_loss: 0.5386\n",
      "Epoch 80/200\n",
      " - 4s - loss: 0.2738 - val_loss: 0.5282\n",
      "Epoch 81/200\n",
      " - 3s - loss: 0.2713 - val_loss: 0.5238\n",
      "Epoch 82/200\n",
      " - 3s - loss: 0.2720 - val_loss: 0.5647\n",
      "Epoch 83/200\n",
      " - 3s - loss: 0.2675 - val_loss: 0.4982\n",
      "Epoch 84/200\n",
      " - 3s - loss: 0.2706 - val_loss: 0.5209\n",
      "Epoch 85/200\n",
      " - 3s - loss: 0.2690 - val_loss: 0.5076\n",
      "Epoch 86/200\n",
      " - 3s - loss: 0.2701 - val_loss: 0.5290\n",
      "Epoch 87/200\n",
      " - 3s - loss: 0.2666 - val_loss: 0.5048\n",
      "Epoch 88/200\n",
      " - 3s - loss: 0.2653 - val_loss: 0.5423\n",
      "Epoch 89/200\n",
      " - 3s - loss: 0.2608 - val_loss: 0.5042\n",
      "Epoch 90/200\n",
      " - 3s - loss: 0.2599 - val_loss: 0.5165\n",
      "Epoch 91/200\n",
      " - 3s - loss: 0.2601 - val_loss: 0.5162\n",
      "Epoch 92/200\n",
      " - 3s - loss: 0.2577 - val_loss: 0.5085\n",
      "Epoch 93/200\n",
      " - 3s - loss: 0.2578 - val_loss: 0.5138\n",
      "Epoch 94/200\n",
      " - 3s - loss: 0.2578 - val_loss: 0.5090\n",
      "Epoch 95/200\n",
      " - 4s - loss: 0.2587 - val_loss: 0.5407\n",
      "Epoch 96/200\n",
      " - 4s - loss: 0.2590 - val_loss: 0.5258\n",
      "Epoch 97/200\n",
      " - 4s - loss: 0.2579 - val_loss: 0.4754\n",
      "Epoch 98/200\n",
      " - 4s - loss: 0.2583 - val_loss: 0.5105\n",
      "Epoch 99/200\n",
      " - 4s - loss: 0.2512 - val_loss: 0.4950\n",
      "Epoch 100/200\n",
      " - 4s - loss: 0.2481 - val_loss: 0.5239\n",
      "Epoch 101/200\n",
      " - 4s - loss: 0.2439 - val_loss: 0.4940\n",
      "Epoch 102/200\n",
      " - 4s - loss: 0.2451 - val_loss: 0.5148\n",
      "Epoch 103/200\n",
      " - 5s - loss: 0.2441 - val_loss: 0.4739\n",
      "Epoch 104/200\n",
      " - 4s - loss: 0.2474 - val_loss: 0.4848\n",
      "Epoch 105/200\n",
      " - 4s - loss: 0.2451 - val_loss: 0.4977\n",
      "Epoch 106/200\n",
      " - 4s - loss: 0.2420 - val_loss: 0.4715\n",
      "Epoch 107/200\n",
      " - 3s - loss: 0.2438 - val_loss: 0.4897\n",
      "Epoch 108/200\n",
      " - 4s - loss: 0.2415 - val_loss: 0.4901\n",
      "Epoch 109/200\n",
      " - 4s - loss: 0.2389 - val_loss: 0.4648\n",
      "Epoch 110/200\n",
      " - 4s - loss: 0.2419 - val_loss: 0.4870\n",
      "Epoch 111/200\n",
      " - 4s - loss: 0.2397 - val_loss: 0.4677\n",
      "Epoch 112/200\n",
      " - 3s - loss: 0.2355 - val_loss: 0.4698\n",
      "Epoch 113/200\n",
      " - 3s - loss: 0.2381 - val_loss: 0.4833\n",
      "Epoch 114/200\n",
      " - 3s - loss: 0.2337 - val_loss: 0.4640\n",
      "Epoch 115/200\n",
      " - 3s - loss: 0.2292 - val_loss: 0.4628\n",
      "Epoch 116/200\n",
      " - 3s - loss: 0.2296 - val_loss: 0.4703\n",
      "Epoch 117/200\n",
      " - 3s - loss: 0.2355 - val_loss: 0.4583\n",
      "Epoch 118/200\n",
      " - 3s - loss: 0.2318 - val_loss: 0.4645\n",
      "Epoch 119/200\n",
      " - 3s - loss: 0.2278 - val_loss: 0.4571\n",
      "Epoch 120/200\n",
      " - 3s - loss: 0.2293 - val_loss: 0.4527\n",
      "Epoch 121/200\n",
      " - 4s - loss: 0.2221 - val_loss: 0.4522\n",
      "Epoch 122/200\n",
      " - 3s - loss: 0.2205 - val_loss: 0.4549\n",
      "Epoch 123/200\n",
      " - 3s - loss: 0.2217 - val_loss: 0.4528\n",
      "Epoch 124/200\n",
      " - 3s - loss: 0.2195 - val_loss: 0.4495\n",
      "Epoch 125/200\n",
      " - 4s - loss: 0.2202 - val_loss: 0.4468\n",
      "Epoch 126/200\n",
      " - 4s - loss: 0.2229 - val_loss: 0.4566\n",
      "Epoch 127/200\n",
      " - 5s - loss: 0.2214 - val_loss: 0.4405\n",
      "Epoch 128/200\n",
      " - 6s - loss: 0.2166 - val_loss: 0.4546\n",
      "Epoch 129/200\n",
      " - 4s - loss: 0.2151 - val_loss: 0.4558\n",
      "Epoch 130/200\n",
      " - 4s - loss: 0.2126 - val_loss: 0.4347\n",
      "Epoch 131/200\n",
      " - 3s - loss: 0.2083 - val_loss: 0.4384\n",
      "Epoch 132/200\n",
      " - 3s - loss: 0.2070 - val_loss: 0.4407\n",
      "Epoch 133/200\n",
      " - 3s - loss: 0.2042 - val_loss: 0.4319\n",
      "Epoch 134/200\n",
      " - 4s - loss: 0.2033 - val_loss: 0.4349\n",
      "Epoch 135/200\n",
      " - 4s - loss: 0.2038 - val_loss: 0.4336\n",
      "Epoch 136/200\n",
      " - 3s - loss: 0.2156 - val_loss: 0.4351\n",
      "Epoch 137/200\n",
      " - 4s - loss: 0.2098 - val_loss: 0.4321\n",
      "Epoch 138/200\n",
      " - 4s - loss: 0.2105 - val_loss: 0.4512\n",
      "Epoch 139/200\n",
      " - 4s - loss: 0.2105 - val_loss: 0.4350\n",
      "Epoch 140/200\n",
      " - 4s - loss: 0.2090 - val_loss: 0.4411\n",
      "Epoch 141/200\n",
      " - 5s - loss: 0.2047 - val_loss: 0.4447\n",
      "Epoch 142/200\n",
      " - 4s - loss: 0.2018 - val_loss: 0.4319\n",
      "Epoch 143/200\n",
      " - 4s - loss: 0.2042 - val_loss: 0.4269\n",
      "Epoch 144/200\n",
      " - 5s - loss: 0.2167 - val_loss: 0.4335\n",
      "Epoch 145/200\n",
      " - 5s - loss: 0.2067 - val_loss: 0.4305\n",
      "Epoch 146/200\n",
      " - 4s - loss: 0.2120 - val_loss: 0.4426\n",
      "Epoch 147/200\n",
      " - 4s - loss: 0.2067 - val_loss: 0.4320\n",
      "Epoch 148/200\n",
      " - 4s - loss: 0.1996 - val_loss: 0.4254\n",
      "Epoch 149/200\n",
      " - 3s - loss: 0.2040 - val_loss: 0.4451\n",
      "Epoch 150/200\n",
      " - 4s - loss: 0.1946 - val_loss: 0.4194\n",
      "Epoch 151/200\n",
      " - 4s - loss: 0.1936 - val_loss: 0.4291\n",
      "Epoch 152/200\n"
     ]
    }
   ],
   "source": [
    "\n",
    "# design network\n",
    "model = Sequential()\n",
    "#model.add(Dense(50))\n",
    "model.add(LSTM(100,input_shape=(train_X.shape[1],train_X.shape[2])))\n",
    "#model.add(Dense(100))\n",
    "#model.add(Dense(50))\n",
    "model.add(Dense(6))\n",
    "model.compile(loss='mae', optimizer='adam')\n",
    "# fit network\n",
    "history = model.fit(train_X, train_y, epochs=200, batch_size=150, validation_data=(test_X, test_y), verbose=2, shuffle=False)\n",
    "# plot history\n",
    "pyplot.plot(history.history['loss'], label='train')\n",
    "pyplot.plot(history.history['val_loss'], label='test')\n",
    "pyplot.legend()\n",
    "pyplot.show()"
   ]
  },
  {
   "cell_type": "code",
   "execution_count": null,
   "metadata": {
    "colab": {
     "base_uri": "https://localhost:8080/",
     "height": 236
    },
    "colab_type": "code",
    "id": "a-oNGOkJn-O6",
    "outputId": "f0f17f06-5563-417a-9746-b6a4ac6498ac"
   },
   "outputs": [],
   "source": [
    "\n",
    "\n"
   ]
  },
  {
   "cell_type": "code",
   "execution_count": null,
   "metadata": {
    "colab": {
     "base_uri": "https://localhost:8080/",
     "height": 34
    },
    "colab_type": "code",
    "id": "i5W8gwIcoAZK",
    "outputId": "72508307-caab-4af7-a2c8-d537ea3bfd59"
   },
   "outputs": [],
   "source": [
    "# make a prediction\n",
    "yhat = model.predict(test_X)\n",
    "yhat2 = model.predict(train_X)\n",
    "\n",
    "# calculate RMSE\n",
    "rmse = sqrt(mean_squared_error(yhat, test_y))\n",
    "rmse2 = sqrt(mean_squared_error(yhat, test_y))\n",
    "print('Test RMSE: %.3f' % rmse)"
   ]
  },
  {
   "cell_type": "code",
   "execution_count": null,
   "metadata": {
    "colab": {
     "base_uri": "https://localhost:8080/",
     "height": 347
    },
    "colab_type": "code",
    "id": "hbQ6-fYNdCQ_",
    "outputId": "c7c3af1d-f710-4a6e-88f1-12a13a6e03c5"
   },
   "outputs": [],
   "source": [
    "x = np.linspace(0,ypred.shape[0], ypred.shape[0]).reshape(ypred.shape[0],)\n",
    "ypred = model.predict(train_X)\n",
    "pyplot.plot(ypred[:,1],'r')\n",
    "pyplot.plot(train_y[:,1],'b')\n",
    "error=np.abs(ypred[:,[1]]-train_y[:,[1]])\n",
    "pyplot.fill_between(x,(ypred[:,[1]]-error).reshape(ypred.shape[0],), (ypred[:,[1]]+error).reshape(ypred.shape[0],))\n",
    "pyplot.show()"
   ]
  },
  {
   "cell_type": "code",
   "execution_count": null,
   "metadata": {},
   "outputs": [],
   "source": [
    "yhat.shape"
   ]
  },
  {
   "cell_type": "code",
   "execution_count": null,
   "metadata": {},
   "outputs": [],
   "source": [
    "x = np.linspace(0,yhat.shape[0], yhat.shape[0]).reshape(yhat.shape[0],1)\n",
    "x.shape"
   ]
  },
  {
   "cell_type": "code",
   "execution_count": null,
   "metadata": {},
   "outputs": [],
   "source": [
    "(yhat[:,[1]]-error).shape"
   ]
  },
  {
   "cell_type": "code",
   "execution_count": null,
   "metadata": {},
   "outputs": [],
   "source": [
    "import seaborn as sns"
   ]
  },
  {
   "cell_type": "code",
   "execution_count": null,
   "metadata": {},
   "outputs": [],
   "source": [
    "fmri = sns.load_dataset(\"fmri\")"
   ]
  },
  {
   "cell_type": "code",
   "execution_count": null,
   "metadata": {},
   "outputs": [],
   "source": [
    "g = sns.relplot(x=\"timepoint\", y=\"signal\",data="
   ]
  },
  {
   "cell_type": "code",
   "execution_count": null,
   "metadata": {},
   "outputs": [],
   "source": [
    "sns.set()\n",
    "sns.set_context('notebook',font_scale=1.4)\n",
    "pyplot.rcParams['figure.figsize']=(25,12)"
   ]
  },
  {
   "cell_type": "code",
   "execution_count": null,
   "metadata": {
    "colab": {
     "base_uri": "https://localhost:8080/",
     "height": 347
    },
    "colab_type": "code",
    "id": "85JJZKw1pSmF",
    "outputId": "b3e1ffce-9f50-4f45-be13-a814a4ec7a94"
   },
   "outputs": [],
   "source": [
    "x = np.linspace(0,yhat.shape[0], yhat.shape[0]).reshape(yhat.shape[0],)\n",
    "pyplot.plot(yhat[:,[1]],'r')\n",
    "pyplot.plot(test_y[:,[1]],'orange')\n",
    "error=np.abs(yhat[:,[1]]-test_y[:,[1]])\n",
    "pyplot.fill_between(x,(yhat[:,[1]]-error).reshape(yhat.shape[0],), (yhat[:,[1]]+error).reshape(yhat.shape[0],))\n",
    "pyplot.show()\n",
    "pyplot.plot(yhat[:,[0]])\n",
    "pyplot.plot(test_y[:,[0]])\n",
    "pyplot.show()\n",
    "pyplot.plot(yhat[:,[2]])\n",
    "pyplot.plot(test_y[:,[2]])\n",
    "pyplot.show()"
   ]
  },
  {
   "cell_type": "code",
   "execution_count": null,
   "metadata": {
    "colab": {
     "base_uri": "https://localhost:8080/",
     "height": 347
    },
    "colab_type": "code",
    "id": "eGDvwV02UlCD",
    "outputId": "17945fbc-38da-4969-db6a-7b8903960973"
   },
   "outputs": [],
   "source": [
    "pyplot.plot(gt_sc)\n",
    "pyplot.show()"
   ]
  }
 ],
 "metadata": {
  "colab": {
   "name": "last_hope.ipynb",
   "provenance": [],
   "version": "0.3.2"
  },
  "kernelspec": {
   "display_name": "Python 3",
   "language": "python",
   "name": "python3"
  },
  "language_info": {
   "codemirror_mode": {
    "name": "ipython",
    "version": 3
   },
   "file_extension": ".py",
   "mimetype": "text/x-python",
   "name": "python",
   "nbconvert_exporter": "python",
   "pygments_lexer": "ipython3",
   "version": "3.6.6"
  }
 },
 "nbformat": 4,
 "nbformat_minor": 1
}
