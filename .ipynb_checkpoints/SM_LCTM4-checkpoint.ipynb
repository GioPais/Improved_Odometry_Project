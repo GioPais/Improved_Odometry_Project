{
 "cells": [
  {
   "cell_type": "code",
   "execution_count": 1,
   "metadata": {
    "colab": {},
    "colab_type": "code",
    "id": "9BLjcn55NG8G"
   },
   "outputs": [],
   "source": [
    "import torch \n",
    "import torch.nn as nn\n",
    "from torch.autograd import Variable\n",
    "import torch.nn.functional as F\n",
    "import torch.utils.data\n",
    "import torch.optim as optim"
   ]
  },
  {
   "cell_type": "code",
   "execution_count": 2,
   "metadata": {
    "colab": {},
    "colab_type": "code",
    "id": "bG43m3FsT583"
   },
   "outputs": [],
   "source": [
    "class SMnet(nn.Module):\n",
    "    def __init__(self):\n",
    "        super(SMnet, self).__init__()\n",
    "        self.linear_start1 = nn.Linear(10,128)#20,128\n",
    "        self.linear_start2 = nn.Linear(128,256)#128,256\n",
    "        #self.linear_start1.cuda()\n",
    "        #self.linear_start2.cuda()\n",
    "        self.lstm = nn.LSTM(\n",
    "            input_size=256, \n",
    "            hidden_size=512, \n",
    "            num_layers=3,\n",
    "            batch_first=True)#256,512,3\n",
    "        \n",
    "       # self.lstm.cuda()\n",
    "        self.linear1 = nn.Linear(512, 256)#512,256\n",
    "        self.linear2 = nn.Linear(256, 7)#256,3\n",
    "        #self.linear1.cuda()\n",
    "        #self.linear2.cuda()\n",
    "        \n",
    "    def forward(self, robot_sensors):\n",
    "        ls_out1 = self.linear_start1(robot_sensors)\n",
    "        ls_out2 = self.linear_start2(ls_out1)\n",
    "        lstm_out, (h_n, h_c) = self.lstm(ls_out2)\n",
    "        l_out1 = self.linear1(lstm_out)\n",
    "        l_out2 = self.linear2(l_out1)\n",
    "\n",
    "        return l_out2\n",
    "        "
   ]
  },
  {
   "cell_type": "code",
   "execution_count": 3,
   "metadata": {
    "colab": {
     "base_uri": "https://localhost:8080/",
     "height": 118
    },
    "colab_type": "code",
    "id": "Jau0NItlfoEM",
    "outputId": "13607ef7-92d0-4984-ca16-77ab71e66588"
   },
   "outputs": [
    {
     "name": "stderr",
     "output_type": "stream",
     "text": [
      "/home/robotica/anaconda2/envs/torchic/lib/python3.6/site-packages/ipykernel_launcher.py:8: FutureWarning: Method .as_matrix will be removed in a future version. Use .values instead.\n",
      "  \n",
      "/home/robotica/anaconda2/envs/torchic/lib/python3.6/site-packages/ipykernel_launcher.py:9: FutureWarning: Method .as_matrix will be removed in a future version. Use .values instead.\n",
      "  if __name__ == '__main__':\n"
     ]
    },
    {
     "name": "stdout",
     "output_type": "stream",
     "text": [
      "46874 datos de entrada con tamaño 21\n",
      "46874 datos de salida con tamaño  8\n",
      "46874 datos de entrada con tamaño 20\n",
      "46874 datos de salida con tamaño  3\n"
     ]
    }
   ],
   "source": [
    "import pandas as pd\n",
    "import numpy as np\n",
    "from sklearn.model_selection import train_test_split\n",
    "import matplotlib.pylab as plt\n",
    "\n",
    "data_x= pd.read_csv('joints_tobar.txt',delimiter=\" \",header=None)\n",
    "data_y= pd.read_csv('ground_truth.txt',delimiter=\" \",header=None)\n",
    "feat=data_x.as_matrix()\n",
    "gtruth=data_y.as_matrix()\n",
    "\n",
    "print('{0:2d} datos de entrada con tamaño {1:2d}'.format(len(feat),len(feat[0])))\n",
    "print('{0:2d} datos de salida con tamaño {1:2d}'.format(len(gtruth),len(gtruth[0])))\n",
    "y=[]\n",
    "x=[]\n",
    "time=[]\n",
    "#print(ground_t)\n",
    "#Extraer x,y,z\n",
    "for i in range(0,len(feat)):\n",
    "    xi=[]\n",
    "    for j in range(1,len(feat[0])):\n",
    "        xi.append(feat[i][j])\n",
    "    x.append(xi)\n",
    "    time.append(feat[i][0])\n",
    "    #if i%10000==0:\n",
    "        #print(xi)\n",
    "        \n",
    "for i in range(0,len(gtruth)):\n",
    "    pos=[]\n",
    "    pos.append(gtruth[i][1])\n",
    "    pos.append(gtruth[i][2])\n",
    "    pos.append(gtruth[i][3])\n",
    "    y.append(pos)\n",
    "    #if i%10000==0:\n",
    "        #print(pos)\n",
    "        \n",
    "print('{0:2d} datos de entrada con tamaño {1:2d}'.format(len(x),len(x[0])))\n",
    "print('{0:2d} datos de salida con tamaño {1:2d}'.format(len(y),len(y[0])))"
   ]
  },
  {
   "cell_type": "code",
   "execution_count": 4,
   "metadata": {},
   "outputs": [
    {
     "name": "stderr",
     "output_type": "stream",
     "text": [
      "/home/robotica/anaconda2/envs/torchic/lib/python3.6/site-packages/ipykernel_launcher.py:8: FutureWarning: Method .as_matrix will be removed in a future version. Use .values instead.\n",
      "  \n",
      "/home/robotica/anaconda2/envs/torchic/lib/python3.6/site-packages/ipykernel_launcher.py:9: FutureWarning: Method .as_matrix will be removed in a future version. Use .values instead.\n",
      "  if __name__ == '__main__':\n"
     ]
    }
   ],
   "source": [
    "import pandas as pd\n",
    "import numpy as np\n",
    "from sklearn.model_selection import train_test_split\n",
    "import matplotlib.pylab as plt\n",
    "\n",
    "data_x= pd.read_csv('base_imu_new.csv',header=None)\n",
    "data_y= pd.read_csv('odom_new.csv',header=None)\n",
    "feat=data_x.as_matrix()\n",
    "gtruth=data_y.as_matrix()\n"
   ]
  },
  {
   "cell_type": "code",
   "execution_count": 5,
   "metadata": {},
   "outputs": [
    {
     "name": "stdout",
     "output_type": "stream",
     "text": [
      "10224 datos de entrada con tamaño 12\n",
      "10224 datos de salida con tamaño  9\n",
      "10224 datos de entrada con tamaño 11\n",
      "10224 datos de salida con tamaño  3\n"
     ]
    }
   ],
   "source": [
    "print('{0:2d} datos de entrada con tamaño {1:2d}'.format(len(feat),len(feat[0])))\n",
    "print('{0:2d} datos de salida con tamaño {1:2d}'.format(len(gtruth),len(gtruth[0])))\n",
    "y=[]\n",
    "x=[]\n",
    "time=[]\n",
    "#print(ground_t)\n",
    "#Extraer x,y,z\n",
    "for i in range(0,len(feat)):\n",
    "    xi=[]\n",
    "    for j in range(1,len(feat[0])):\n",
    "        xi.append(feat[i][j])\n",
    "    x.append(xi)\n",
    "    time.append(feat[i][0])\n",
    "    #if i%10000==0:\n",
    "        #print(xi)\n",
    "        \n",
    "for i in range(0,len(gtruth)):\n",
    "    pos=[]\n",
    "    pos.append(gtruth[i][1])\n",
    "    pos.append(gtruth[i][2])\n",
    "    pos.append(gtruth[i][3])\n",
    "    y.append(pos)\n",
    "    #if i%10000==0:\n",
    "        #print(pos)\n",
    "        \n",
    "print('{0:2d} datos de entrada con tamaño {1:2d}'.format(len(x),len(x[0])))\n",
    "print('{0:2d} datos de salida con tamaño {1:2d}'.format(len(y),len(y[0])))"
   ]
  },
  {
   "cell_type": "code",
   "execution_count": 6,
   "metadata": {},
   "outputs": [
    {
     "name": "stdout",
     "output_type": "stream",
     "text": [
      "tamaño características de entrenamiento: 6000\n",
      "tamaño características de validacion: 4224\n",
      "--------------------------------------------------------------------\n",
      "tamaño groundtruth de entrenamiento: 6000\n",
      "tamaño groundtruth de validacion: 4224\n"
     ]
    },
    {
     "data": {
      "image/png": "[encoded data removed]",
      "text/plain": [
       "<Figure size 432x288 with 1 Axes>"
      ]
     },
     "metadata": {},
     "output_type": "display_data"
    }
   ],
   "source": [
    "slices = 6000\n",
    "x_train= x[:slices]\n",
    "y_train= y[:slices]\n",
    "t_train=time[:slices]\n",
    "\n",
    "\n",
    "\n",
    "y_plot=[]\n",
    "for i in range(0,len(y_train)):\n",
    "    y_plot.append(y_train[i][0])\n",
    "\n",
    "plt.plot(t_train,y_plot)\n",
    "    \n",
    "x_val = x[slices:]\n",
    "y_val = y[slices:]\n",
    "t_val=time[slices:]\n",
    "print('tamaño características de entrenamiento: {0:2d}'.format(len(x_train)))\n",
    "print('tamaño características de validacion: {0:2d}'.format(len(y_val)))\n",
    "print('--------------------------------------------------------------------')\n",
    "print('tamaño groundtruth de entrenamiento: {0:2d}'.format(len(x_train)))\n",
    "print('tamaño groundtruth de validacion: {0:2d}'.format(len(y_val)))"
   ]
  },
  {
   "cell_type": "code",
   "execution_count": 7,
   "metadata": {},
   "outputs": [],
   "source": [
    "import sklearn as skl\n",
    "std_scale=skl.preprocessing.MinMaxScaler(feature_range=(0,1)).fit(x_train)\n",
    "x_train = std_scale.transform(x_train)\n",
    "x_val = std_scale.transform(x_val)\n",
    "std_scale=skl.preprocessing.MinMaxScaler(feature_range=(0,1)).fit(y)\n",
    "y_train = std_scale.transform(y_train)\n",
    "y_val = std_scale.transform(y_val)\n",
    "#np.interp(a, (a.min(), a.max()), (-1, +1))"
   ]
  },
  {
   "cell_type": "code",
   "execution_count": 8,
   "metadata": {
    "colab": {},
    "colab_type": "code",
    "id": "mZ-ve5xhXhMH"
   },
   "outputs": [
    {
     "name": "stderr",
     "output_type": "stream",
     "text": [
      "/home/robotica/anaconda2/envs/torchic/lib/python3.6/site-packages/torch/nn/functional.py:52: UserWarning: size_average and reduce args will be deprecated, please use reduction='sum' instead.\n",
      "  warnings.warn(warning.format(ret))\n"
     ]
    }
   ],
   "source": [
    "# set random seed to 0\n",
    "np.random.seed(0)\n",
    "torch.manual_seed(0)\n",
    "input= x_train\n",
    "target = y_train\n",
    "#target = target.unsqueeze(0)\n",
    "test_input = torch.from_numpy(np.array(x_val))\n",
    "test_target = torch.from_numpy(np.array(y_val))\n",
    "# build the model\n",
    "sm = SMnet()\n",
    "sm.double()\n",
    "criterion = nn.MSELoss(size_average=False)\n",
    "# create your optimizer\n",
    "optimizer = optim.SGD(sm.parameters(), lr=0.001, momentum=0.9)"
   ]
  },
  {
   "cell_type": "code",
   "execution_count": 9,
   "metadata": {},
   "outputs": [],
   "source": [
    "def next_batch(input_data,seq_size,batch_size,index):\n",
    "    batch = []\n",
    "    if batch_size*(index-1) + seq_size > len(input_data):\n",
    "        return\n",
    "    for i in range(batch_size*(index-1),batch_size*index):\n",
    "        batch.append(input_data[i:i+seq_size,:])\n",
    "    batch_t = np.array(batch)\n",
    "    #print(batch_t)\n",
    "    batch_t = Variable(torch.from_numpy(batch_t).type(torch.DoubleTensor)) \n",
    "    return batch_t"
   ]
  },
  {
   "cell_type": "code",
   "execution_count": 10,
   "metadata": {
    "colab": {
     "base_uri": "https://localhost:8080/",
     "height": 237
    },
    "colab_type": "code",
    "id": "TuzWqMWkkiXj",
    "outputId": "fb189ca9-e8be-485a-f2ab-b0e9bed07728",
    "scrolled": true
   },
   "outputs": [
    {
     "name": "stdout",
     "output_type": "stream",
     "text": [
      "<built-in method size of Tensor object at 0x7f68b5beb8b8>\n"
     ]
    },
    {
     "ename": "RuntimeError",
     "evalue": "size mismatch, m1: [6600 x 11], m2: [10 x 128] at /opt/conda/conda-bld/pytorch-cpu_1532576596369/work/aten/src/TH/generic/THTensorMath.cpp:2070",
     "output_type": "error",
     "traceback": [
      "\u001b[0;31m---------------------------------------------------------------------------\u001b[0m",
      "\u001b[0;31mRuntimeError\u001b[0m                              Traceback (most recent call last)",
      "\u001b[0;32m<ipython-input-10-5129c9384b7d>\u001b[0m in \u001b[0;36m<module>\u001b[0;34m()\u001b[0m\n\u001b[1;32m     10\u001b[0m     \u001b[0mbatch_target\u001b[0m \u001b[0;34m=\u001b[0m \u001b[0mnext_batch\u001b[0m\u001b[0;34m(\u001b[0m\u001b[0mtarget\u001b[0m\u001b[0;34m,\u001b[0m\u001b[0mseq_size\u001b[0m\u001b[0;34m,\u001b[0m\u001b[0mbatch_size\u001b[0m\u001b[0;34m,\u001b[0m\u001b[0mi\u001b[0m\u001b[0;34m)\u001b[0m\u001b[0;34m\u001b[0m\u001b[0m\n\u001b[1;32m     11\u001b[0m     \u001b[0mbatch_target\u001b[0m \u001b[0;34m=\u001b[0m \u001b[0mVariable\u001b[0m\u001b[0;34m(\u001b[0m\u001b[0mbatch_target\u001b[0m\u001b[0;34m)\u001b[0m\u001b[0;34m\u001b[0m\u001b[0m\n\u001b[0;32m---> 12\u001b[0;31m     \u001b[0moutput\u001b[0m \u001b[0;34m=\u001b[0m \u001b[0msm\u001b[0m\u001b[0;34m(\u001b[0m\u001b[0mbatch\u001b[0m\u001b[0;34m)\u001b[0m\u001b[0;34m\u001b[0m\u001b[0m\n\u001b[0m\u001b[1;32m     13\u001b[0m     \u001b[0mloss\u001b[0m \u001b[0;34m=\u001b[0m \u001b[0mcriterion\u001b[0m\u001b[0;34m(\u001b[0m\u001b[0moutput\u001b[0m\u001b[0;34m,\u001b[0m \u001b[0mbatch_target\u001b[0m\u001b[0;34m)\u001b[0m\u001b[0;34m\u001b[0m\u001b[0m\n\u001b[1;32m     14\u001b[0m     \u001b[0mprint\u001b[0m\u001b[0;34m(\u001b[0m\u001b[0;34m\"loss: {}   ({}%)\"\u001b[0m\u001b[0;34m.\u001b[0m\u001b[0mformat\u001b[0m\u001b[0;34m(\u001b[0m\u001b[0mloss\u001b[0m\u001b[0;34m,\u001b[0m\u001b[0;34m(\u001b[0m\u001b[0mi\u001b[0m\u001b[0;34m/\u001b[0m\u001b[0mepoch\u001b[0m\u001b[0;34m)\u001b[0m\u001b[0;34m)\u001b[0m\u001b[0;34m)\u001b[0m\u001b[0;34m\u001b[0m\u001b[0m\n",
      "\u001b[0;32m~/anaconda2/envs/torchic/lib/python3.6/site-packages/torch/nn/modules/module.py\u001b[0m in \u001b[0;36m__call__\u001b[0;34m(self, *input, **kwargs)\u001b[0m\n\u001b[1;32m    475\u001b[0m             \u001b[0mresult\u001b[0m \u001b[0;34m=\u001b[0m \u001b[0mself\u001b[0m\u001b[0;34m.\u001b[0m\u001b[0m_slow_forward\u001b[0m\u001b[0;34m(\u001b[0m\u001b[0;34m*\u001b[0m\u001b[0minput\u001b[0m\u001b[0;34m,\u001b[0m \u001b[0;34m**\u001b[0m\u001b[0mkwargs\u001b[0m\u001b[0;34m)\u001b[0m\u001b[0;34m\u001b[0m\u001b[0m\n\u001b[1;32m    476\u001b[0m         \u001b[0;32melse\u001b[0m\u001b[0;34m:\u001b[0m\u001b[0;34m\u001b[0m\u001b[0m\n\u001b[0;32m--> 477\u001b[0;31m             \u001b[0mresult\u001b[0m \u001b[0;34m=\u001b[0m \u001b[0mself\u001b[0m\u001b[0;34m.\u001b[0m\u001b[0mforward\u001b[0m\u001b[0;34m(\u001b[0m\u001b[0;34m*\u001b[0m\u001b[0minput\u001b[0m\u001b[0;34m,\u001b[0m \u001b[0;34m**\u001b[0m\u001b[0mkwargs\u001b[0m\u001b[0;34m)\u001b[0m\u001b[0;34m\u001b[0m\u001b[0m\n\u001b[0m\u001b[1;32m    478\u001b[0m         \u001b[0;32mfor\u001b[0m \u001b[0mhook\u001b[0m \u001b[0;32min\u001b[0m \u001b[0mself\u001b[0m\u001b[0;34m.\u001b[0m\u001b[0m_forward_hooks\u001b[0m\u001b[0;34m.\u001b[0m\u001b[0mvalues\u001b[0m\u001b[0;34m(\u001b[0m\u001b[0;34m)\u001b[0m\u001b[0;34m:\u001b[0m\u001b[0;34m\u001b[0m\u001b[0m\n\u001b[1;32m    479\u001b[0m             \u001b[0mhook_result\u001b[0m \u001b[0;34m=\u001b[0m \u001b[0mhook\u001b[0m\u001b[0;34m(\u001b[0m\u001b[0mself\u001b[0m\u001b[0;34m,\u001b[0m \u001b[0minput\u001b[0m\u001b[0;34m,\u001b[0m \u001b[0mresult\u001b[0m\u001b[0;34m)\u001b[0m\u001b[0;34m\u001b[0m\u001b[0m\n",
      "\u001b[0;32m<ipython-input-2-d9634d8e164b>\u001b[0m in \u001b[0;36mforward\u001b[0;34m(self, robot_sensors)\u001b[0m\n\u001b[1;32m     19\u001b[0m \u001b[0;34m\u001b[0m\u001b[0m\n\u001b[1;32m     20\u001b[0m     \u001b[0;32mdef\u001b[0m \u001b[0mforward\u001b[0m\u001b[0;34m(\u001b[0m\u001b[0mself\u001b[0m\u001b[0;34m,\u001b[0m \u001b[0mrobot_sensors\u001b[0m\u001b[0;34m)\u001b[0m\u001b[0;34m:\u001b[0m\u001b[0;34m\u001b[0m\u001b[0m\n\u001b[0;32m---> 21\u001b[0;31m         \u001b[0mls_out1\u001b[0m \u001b[0;34m=\u001b[0m \u001b[0mself\u001b[0m\u001b[0;34m.\u001b[0m\u001b[0mlinear_start1\u001b[0m\u001b[0;34m(\u001b[0m\u001b[0mrobot_sensors\u001b[0m\u001b[0;34m)\u001b[0m\u001b[0;34m\u001b[0m\u001b[0m\n\u001b[0m\u001b[1;32m     22\u001b[0m         \u001b[0mls_out2\u001b[0m \u001b[0;34m=\u001b[0m \u001b[0mself\u001b[0m\u001b[0;34m.\u001b[0m\u001b[0mlinear_start2\u001b[0m\u001b[0;34m(\u001b[0m\u001b[0mls_out1\u001b[0m\u001b[0;34m)\u001b[0m\u001b[0;34m\u001b[0m\u001b[0m\n\u001b[1;32m     23\u001b[0m         \u001b[0mlstm_out\u001b[0m\u001b[0;34m,\u001b[0m \u001b[0;34m(\u001b[0m\u001b[0mh_n\u001b[0m\u001b[0;34m,\u001b[0m \u001b[0mh_c\u001b[0m\u001b[0;34m)\u001b[0m \u001b[0;34m=\u001b[0m \u001b[0mself\u001b[0m\u001b[0;34m.\u001b[0m\u001b[0mlstm\u001b[0m\u001b[0;34m(\u001b[0m\u001b[0mls_out2\u001b[0m\u001b[0;34m)\u001b[0m\u001b[0;34m\u001b[0m\u001b[0m\n",
      "\u001b[0;32m~/anaconda2/envs/torchic/lib/python3.6/site-packages/torch/nn/modules/module.py\u001b[0m in \u001b[0;36m__call__\u001b[0;34m(self, *input, **kwargs)\u001b[0m\n\u001b[1;32m    475\u001b[0m             \u001b[0mresult\u001b[0m \u001b[0;34m=\u001b[0m \u001b[0mself\u001b[0m\u001b[0;34m.\u001b[0m\u001b[0m_slow_forward\u001b[0m\u001b[0;34m(\u001b[0m\u001b[0;34m*\u001b[0m\u001b[0minput\u001b[0m\u001b[0;34m,\u001b[0m \u001b[0;34m**\u001b[0m\u001b[0mkwargs\u001b[0m\u001b[0;34m)\u001b[0m\u001b[0;34m\u001b[0m\u001b[0m\n\u001b[1;32m    476\u001b[0m         \u001b[0;32melse\u001b[0m\u001b[0;34m:\u001b[0m\u001b[0;34m\u001b[0m\u001b[0m\n\u001b[0;32m--> 477\u001b[0;31m             \u001b[0mresult\u001b[0m \u001b[0;34m=\u001b[0m \u001b[0mself\u001b[0m\u001b[0;34m.\u001b[0m\u001b[0mforward\u001b[0m\u001b[0;34m(\u001b[0m\u001b[0;34m*\u001b[0m\u001b[0minput\u001b[0m\u001b[0;34m,\u001b[0m \u001b[0;34m**\u001b[0m\u001b[0mkwargs\u001b[0m\u001b[0;34m)\u001b[0m\u001b[0;34m\u001b[0m\u001b[0m\n\u001b[0m\u001b[1;32m    478\u001b[0m         \u001b[0;32mfor\u001b[0m \u001b[0mhook\u001b[0m \u001b[0;32min\u001b[0m \u001b[0mself\u001b[0m\u001b[0;34m.\u001b[0m\u001b[0m_forward_hooks\u001b[0m\u001b[0;34m.\u001b[0m\u001b[0mvalues\u001b[0m\u001b[0;34m(\u001b[0m\u001b[0;34m)\u001b[0m\u001b[0;34m:\u001b[0m\u001b[0;34m\u001b[0m\u001b[0m\n\u001b[1;32m    479\u001b[0m             \u001b[0mhook_result\u001b[0m \u001b[0;34m=\u001b[0m \u001b[0mhook\u001b[0m\u001b[0;34m(\u001b[0m\u001b[0mself\u001b[0m\u001b[0;34m,\u001b[0m \u001b[0minput\u001b[0m\u001b[0;34m,\u001b[0m \u001b[0mresult\u001b[0m\u001b[0;34m)\u001b[0m\u001b[0;34m\u001b[0m\u001b[0m\n",
      "\u001b[0;32m~/anaconda2/envs/torchic/lib/python3.6/site-packages/torch/nn/modules/linear.py\u001b[0m in \u001b[0;36mforward\u001b[0;34m(self, input)\u001b[0m\n\u001b[1;32m     53\u001b[0m \u001b[0;34m\u001b[0m\u001b[0m\n\u001b[1;32m     54\u001b[0m     \u001b[0;32mdef\u001b[0m \u001b[0mforward\u001b[0m\u001b[0;34m(\u001b[0m\u001b[0mself\u001b[0m\u001b[0;34m,\u001b[0m \u001b[0minput\u001b[0m\u001b[0;34m)\u001b[0m\u001b[0;34m:\u001b[0m\u001b[0;34m\u001b[0m\u001b[0m\n\u001b[0;32m---> 55\u001b[0;31m         \u001b[0;32mreturn\u001b[0m \u001b[0mF\u001b[0m\u001b[0;34m.\u001b[0m\u001b[0mlinear\u001b[0m\u001b[0;34m(\u001b[0m\u001b[0minput\u001b[0m\u001b[0;34m,\u001b[0m \u001b[0mself\u001b[0m\u001b[0;34m.\u001b[0m\u001b[0mweight\u001b[0m\u001b[0;34m,\u001b[0m \u001b[0mself\u001b[0m\u001b[0;34m.\u001b[0m\u001b[0mbias\u001b[0m\u001b[0;34m)\u001b[0m\u001b[0;34m\u001b[0m\u001b[0m\n\u001b[0m\u001b[1;32m     56\u001b[0m \u001b[0;34m\u001b[0m\u001b[0m\n\u001b[1;32m     57\u001b[0m     \u001b[0;32mdef\u001b[0m \u001b[0mextra_repr\u001b[0m\u001b[0;34m(\u001b[0m\u001b[0mself\u001b[0m\u001b[0;34m)\u001b[0m\u001b[0;34m:\u001b[0m\u001b[0;34m\u001b[0m\u001b[0m\n",
      "\u001b[0;32m~/anaconda2/envs/torchic/lib/python3.6/site-packages/torch/nn/functional.py\u001b[0m in \u001b[0;36mlinear\u001b[0;34m(input, weight, bias)\u001b[0m\n\u001b[1;32m   1024\u001b[0m         \u001b[0;32mreturn\u001b[0m \u001b[0mtorch\u001b[0m\u001b[0;34m.\u001b[0m\u001b[0maddmm\u001b[0m\u001b[0;34m(\u001b[0m\u001b[0mbias\u001b[0m\u001b[0;34m,\u001b[0m \u001b[0minput\u001b[0m\u001b[0;34m,\u001b[0m \u001b[0mweight\u001b[0m\u001b[0;34m.\u001b[0m\u001b[0mt\u001b[0m\u001b[0;34m(\u001b[0m\u001b[0;34m)\u001b[0m\u001b[0;34m)\u001b[0m\u001b[0;34m\u001b[0m\u001b[0m\n\u001b[1;32m   1025\u001b[0m \u001b[0;34m\u001b[0m\u001b[0m\n\u001b[0;32m-> 1026\u001b[0;31m     \u001b[0moutput\u001b[0m \u001b[0;34m=\u001b[0m \u001b[0minput\u001b[0m\u001b[0;34m.\u001b[0m\u001b[0mmatmul\u001b[0m\u001b[0;34m(\u001b[0m\u001b[0mweight\u001b[0m\u001b[0;34m.\u001b[0m\u001b[0mt\u001b[0m\u001b[0;34m(\u001b[0m\u001b[0;34m)\u001b[0m\u001b[0;34m)\u001b[0m\u001b[0;34m\u001b[0m\u001b[0m\n\u001b[0m\u001b[1;32m   1027\u001b[0m     \u001b[0;32mif\u001b[0m \u001b[0mbias\u001b[0m \u001b[0;32mis\u001b[0m \u001b[0;32mnot\u001b[0m \u001b[0;32mNone\u001b[0m\u001b[0;34m:\u001b[0m\u001b[0;34m\u001b[0m\u001b[0m\n\u001b[1;32m   1028\u001b[0m         \u001b[0moutput\u001b[0m \u001b[0;34m+=\u001b[0m \u001b[0mbias\u001b[0m\u001b[0;34m\u001b[0m\u001b[0m\n",
      "\u001b[0;31mRuntimeError\u001b[0m: size mismatch, m1: [6600 x 11], m2: [10 x 128] at /opt/conda/conda-bld/pytorch-cpu_1532576596369/work/aten/src/TH/generic/THTensorMath.cpp:2070"
     ]
    }
   ],
   "source": [
    "# in your training loop:\n",
    "batch_size=33\n",
    "seq_size=200\n",
    "epoch=3000\n",
    "for i in range(1,epoch):\n",
    "    optimizer.zero_grad()   # zero the gradient buffers\n",
    "    batch = next_batch(input,seq_size,batch_size,i)\n",
    "    batch = Variable(batch)\n",
    "    print(batch.size)\n",
    "    batch_target = next_batch(target,seq_size,batch_size,i)\n",
    "    batch_target = Variable(batch_target)\n",
    "    output = sm(batch)\n",
    "    loss = criterion(output, batch_target)\n",
    "    print(\"loss: {}   ({}%)\".format(loss,(i/epoch)))\n",
    "    loss.backward()\n",
    "    optimizer.step() # Does the update"
   ]
  },
  {
   "cell_type": "code",
   "execution_count": null,
   "metadata": {},
   "outputs": [],
   "source": [
    "sm.eval()"
   ]
  },
  {
   "cell_type": "code",
   "execution_count": null,
   "metadata": {},
   "outputs": [],
   "source": [
    "print(test_input.size())"
   ]
  },
  {
   "cell_type": "code",
   "execution_count": null,
   "metadata": {},
   "outputs": [],
   "source": [
    "Z = sm(torch.from_numpy(input).unsqueeze(0))"
   ]
  },
  {
   "cell_type": "code",
   "execution_count": null,
   "metadata": {},
   "outputs": [],
   "source": [
    "Z=Z.view(-1,3)\n",
    "print(Z)"
   ]
  },
  {
   "cell_type": "code",
   "execution_count": null,
   "metadata": {},
   "outputs": [],
   "source": [
    "    x_pred,x_true=[],[]\n",
    "    y_pred,y_true=[],[]\n",
    "    z_pred,z_true=[],[]\n",
    "    for k in range(0,len(target)):\n",
    "        x_pred.append(Z[k][0].item())\n",
    "        x_true.append(target[k][0].item())\n",
    "        y_pred.append(Z[k][1])\n",
    "        y_true.append(target[k][1])\n",
    "        z_pred.append(Z[k][2])\n",
    "        z_true.append(target[k][2])"
   ]
  },
  {
   "cell_type": "code",
   "execution_count": null,
   "metadata": {},
   "outputs": [],
   "source": [
    "from sklearn.metrics import accuracy_score\n",
    "from sklearn.metrics import mean_squared_error\n",
    "from math import sqrt\n",
    "\n",
    "rms = sqrt(mean_squared_error(x_true, x_pred))\n",
    "print('x RMSE: {}'.format(rms)) # Sin normalizar: 2.01914| Con normalizar: 2.0322\n",
    "\n",
    "rms = sqrt(mean_squared_error(y_true, y_pred))\n",
    "print('y RMSE: {}'.format(rms)) # Sin normalizar: 0.6174| Con normalizar: 0.6184\n",
    "\n",
    "rms = sqrt(mean_squared_error(z_true, z_pred))\n",
    "print('z RMSE: {}'.format(rms)) # Sin normalizar: 0.1204| Con normalizar: 0.1091\n",
    "\n",
    "print('-----------------------------------')\n",
    "print('Partida ajustada manual')\n",
    "\n",
    "x_p,y_p,z_p=[],[],[]\n",
    "\n",
    "for i in range(0,len(x_pred)):\n",
    "    x_p.append(x_pred[i]*100-26.9)\n",
    "    y_p.append(y_pred[i]*100-13.0)\n",
    "    z_p.append(z_pred[i]*12+19.2)\n",
    "\n",
    "rms = sqrt(mean_squared_error(x_true, x_p))\n",
    "print('x RMSE: {}'.format(rms)) # Sin normalizar: 2.01914| Con normalizar: 2.0322\n",
    "\n",
    "rms = sqrt(mean_squared_error(y_true, y_p))\n",
    "print('y RMSE: {}'.format(rms)) # Sin normalizar: 2.01914| Con normalizar: 2.0322\n",
    "\n",
    "rms = sqrt(mean_squared_error(z_true, z_p))\n",
    "print('z RMSE: {}'.format(rms)) # Sin normalizar: 2.01914| Con normalizar: 2.0322\n",
    "\n",
    "\n",
    "\n",
    "\n",
    "\n",
    "import matplotlib.pyplot as plt\n",
    "\n",
    "plt.figure(figsize=(10,5))\n",
    "plt.plot(t_val,x_pred,'b')\n",
    "plt.plot(t_val,x_true,'r')\n",
    "plt.title('X[t]')\n",
    "plt.legend(['prediction','true','manual'])\n",
    "plt.show()\n",
    "\n",
    "plt.figure(figsize=(10,5))\n",
    "plt.plot(t_val,y_pred,'b')\n",
    "plt.plot(t_val,y_true,'r')\n",
    "plt.title('Y[t]')\n",
    "plt.legend(['prediction','true','manual'])\n",
    "plt.show()\n",
    "\n",
    "plt.figure(figsize=(10,5))\n",
    "plt.plot(t_val,z_pred,'b')\n",
    "plt.plot(t_val,z_true,'r')\n",
    "plt.title('Z[t]')\n",
    "plt.legend(['prediction','true','manual'])\n",
    "plt.show()"
   ]
  },
  {
   "cell_type": "code",
   "execution_count": null,
   "metadata": {},
   "outputs": [],
   "source": [
    "x_p,y_p,z_p=[],[],[]\n",
    "\n",
    "plt.figure(figsize=(10,5))\n",
    "plt.plot(t_train,x_pred,'b')\n",
    "plt.plot(t_train,x_true,'r')\n",
    "plt.title('X[t]')\n",
    "plt.legend(['prediction','true','manual'])\n",
    "plt.show()\n",
    "\n",
    "plt.figure(figsize=(10,5))\n",
    "plt.plot(t_train,y_pred,'b')\n",
    "plt.plot(t_train,y_true,'r')\n",
    "plt.title('Y[t]')\n",
    "plt.legend(['prediction','true','manual'])\n",
    "plt.show()\n",
    "\n",
    "plt.figure(figsize=(10,5))\n",
    "plt.plot(t_train,z_pred,'b')\n",
    "plt.plot(t_train,z_true,'r')\n",
    "plt.title('Z[t]')\n",
    "plt.legend(['prediction','true','manual'])\n",
    "plt.show()"
   ]
  },
  {
   "cell_type": "code",
   "execution_count": null,
   "metadata": {},
   "outputs": [],
   "source": []
  }
 ],
 "metadata": {
  "accelerator": "GPU",
  "colab": {
   "name": "SM_LCTM.ipynb",
   "provenance": [],
   "version": "0.3.2"
  },
  "kernelspec": {
   "display_name": "Python 3",
   "language": "python",
   "name": "python3"
  },
  "language_info": {
   "codemirror_mode": {
    "name": "ipython",
    "version": 3
   },
   "file_extension": ".py",
   "mimetype": "text/x-python",
   "name": "python",
   "nbconvert_exporter": "python",
   "pygments_lexer": "ipython3",
   "version": "3.6.4"
  }
 },
 "nbformat": 4,
 "nbformat_minor": 1
}
