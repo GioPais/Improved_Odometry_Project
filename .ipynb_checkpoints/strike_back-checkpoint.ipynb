{
 "cells": [
  {
   "cell_type": "code",
   "execution_count": 17,
   "metadata": {
    "colab": {
     "base_uri": "https://localhost:8080/",
     "height": 34
    },
    "colab_type": "code",
    "id": "BUNqBonblBRn",
    "outputId": "478f86c2-776f-493a-f1b8-f5160e5b478d"
   },
   "outputs": [],
   "source": [
    "from math import sqrt\n",
    "from numpy import concatenate\n",
    "from matplotlib import pyplot\n",
    "import matplotlib.pyplot as plt\n",
    "from pandas import read_csv\n",
    "from pandas import DataFrame\n",
    "from pandas import concat\n",
    "from sklearn.preprocessing import MinMaxScaler\n",
    "from sklearn.preprocessing import LabelEncoder\n",
    "from sklearn.metrics import mean_squared_error\n",
    "from keras.models import Sequential\n",
    "from keras.layers import Dense\n",
    "from keras.layers import LSTM\n",
    "from keras.layers import Dense, Dropout\n",
    "from keras import backend as K\n",
    "import numpy as np\n",
    "import seaborn as sns"
   ]
  },
  {
   "cell_type": "code",
   "execution_count": 2,
   "metadata": {},
   "outputs": [],
   "source": [
    "sns.set()\n",
    "sns.set_context('notebook',font_scale=1.4)\n",
    "pyplot.rcParams['figure.figsize']=(25,12)"
   ]
  },
  {
   "cell_type": "code",
   "execution_count": 3,
   "metadata": {
    "colab": {},
    "colab_type": "code",
    "id": "lODx3NhzCMgW"
   },
   "outputs": [],
   "source": [
    "gt = read_csv('pca_df.csv')"
   ]
  },
  {
   "cell_type": "code",
   "execution_count": 4,
   "metadata": {},
   "outputs": [
    {
     "data": {
      "text/plain": [
       "['PC1',\n",
       " 'PC2',\n",
       " 'PC3',\n",
       " 'PC4',\n",
       " 'PC5',\n",
       " 'PC6',\n",
       " 'PC7',\n",
       " 'PC8',\n",
       " 'PC9',\n",
       " 'PC10',\n",
       " 'PC11',\n",
       " 'PC12',\n",
       " 'PC13',\n",
       " 'PC14',\n",
       " 'PC15',\n",
       " 'PC16',\n",
       " 'PC17',\n",
       " 'PC18',\n",
       " 'PC19',\n",
       " '.pose.pose.position.x',\n",
       " '.pose.pose.position.y',\n",
       " '.pose.pose.position.z',\n",
       " '.pose.pose.orientation.x',\n",
       " '.pose.pose.orientation.y',\n",
       " '.pose.pose.orientation.z',\n",
       " '.pose.pose.orientation.w']"
      ]
     },
     "execution_count": 4,
     "metadata": {},
     "output_type": "execute_result"
    }
   ],
   "source": [
    "list(gt)"
   ]
  },
  {
   "cell_type": "code",
   "execution_count": 5,
   "metadata": {
    "colab": {
     "base_uri": "https://localhost:8080/",
     "height": 486
    },
    "colab_type": "code",
    "id": "8BiRCjwpCSvi",
    "outputId": "4ce0bf76-75fa-45c9-f6ee-b893fe09b644"
   },
   "outputs": [
    {
     "name": "stdout",
     "output_type": "stream",
     "text": [
      "        PC1       PC2       PC3       PC4       PC5       PC6       PC7  \\\n",
      "0 -0.851072  8.044216  0.326841 -1.044230  2.307484  1.075863  3.638323   \n",
      "1 -0.564265  8.143598  0.277990 -0.437284  1.891698  0.630888  3.733934   \n",
      "2 -0.344030  8.164862  0.485255 -0.638983  1.044315  1.209261  3.248368   \n",
      "3 -0.176959  8.179082  0.546207 -0.434098  0.953136  0.805202  3.497788   \n",
      "4 -0.109958  8.211974  0.486941 -0.138914  0.705735  0.631348  3.641314   \n",
      "\n",
      "        PC8       PC9      PC10            ...                 PC17      PC18  \\\n",
      "0  4.274178  2.717133 -0.704123            ...            -1.655194  1.958867   \n",
      "1  1.592049  2.517208 -0.030412            ...             0.399774  1.910119   \n",
      "2  4.415842  0.998141  0.345600            ...             1.202330  1.503087   \n",
      "3  2.762791  1.320751  0.095173            ...             0.692561  2.706914   \n",
      "4  3.152261  0.852382  0.061224            ...             0.396012  2.190524   \n",
      "\n",
      "       PC19  .pose.pose.position.x  .pose.pose.position.y  \\\n",
      "0  0.460268               0.909194              -0.086818   \n",
      "1 -0.349404               0.909462              -0.087017   \n",
      "2  0.549356               0.909194              -0.086818   \n",
      "3  0.255301               0.909194              -0.086818   \n",
      "4 -0.041790               0.909194              -0.086818   \n",
      "\n",
      "   .pose.pose.position.z  .pose.pose.orientation.x  .pose.pose.orientation.y  \\\n",
      "0               0.819903                  0.010896                  0.010932   \n",
      "1               0.819894                  0.011137                  0.011660   \n",
      "2               0.819903                  0.010896                  0.010932   \n",
      "3               0.819903                  0.010896                  0.010932   \n",
      "4               0.819903                  0.010896                  0.010932   \n",
      "\n",
      "   .pose.pose.orientation.z  .pose.pose.orientation.w  \n",
      "0                 -0.314718                  0.949060  \n",
      "1                 -0.314720                  0.949048  \n",
      "2                 -0.314718                  0.949060  \n",
      "3                 -0.314718                  0.949060  \n",
      "4                 -0.314718                  0.949060  \n",
      "\n",
      "[5 rows x 26 columns]\n",
      "[[ 0.90919352 -0.08681773]\n",
      " [ 0.90946156 -0.0870174 ]\n",
      " [ 0.90919352 -0.08681773]\n",
      " ...\n",
      " [ 1.85841024 -0.5969516 ]\n",
      " [ 1.85841024 -0.5969516 ]\n",
      " [ 1.85841024 -0.5969516 ]]\n"
     ]
    }
   ],
   "source": [
    "print(gt.head())\n",
    "gt = gt[[\".pose.pose.position.x\",\".pose.pose.position.y\"]]\n",
    "gt = gt.values\n",
    "print(gt)"
   ]
  },
  {
   "cell_type": "code",
   "execution_count": 6,
   "metadata": {
    "colab": {
     "base_uri": "https://localhost:8080/",
     "height": 243
    },
    "colab_type": "code",
    "id": "oeRceI-PC22A",
    "outputId": "060403ee-c6e8-472f-ac28-1e19383f8708"
   },
   "outputs": [
    {
     "name": "stdout",
     "output_type": "stream",
     "text": [
      "(18126, 19)\n",
      "(18126, 2)\n"
     ]
    }
   ],
   "source": [
    "ft = read_csv('pca_df.csv')\n",
    "#print(ft)\n",
    "ft = ft.values[:,0:19]\n",
    "print(ft.shape)\n",
    "print(gt.shape)"
   ]
  },
  {
   "cell_type": "code",
   "execution_count": 26,
   "metadata": {},
   "outputs": [
    {
     "name": "stdout",
     "output_type": "stream",
     "text": [
      "18126\n",
      "18126\n",
      "[[ 0.90919352 -0.08681773]\n",
      " [ 0.90946156 -0.0870174 ]\n",
      " [ 0.90919352 -0.08681773]\n",
      " ...\n",
      " [ 1.85841024 -0.5969516 ]\n",
      " [ 1.85841024 -0.5969516 ]\n",
      " [ 1.85841024 -0.5969516 ]]\n"
     ]
    },
    {
     "ename": "IndexError",
     "evalue": "list assignment index out of range",
     "output_type": "error",
     "traceback": [
      "\u001b[1;31m---------------------------------------------------------------------------\u001b[0m",
      "\u001b[1;31mIndexError\u001b[0m                                Traceback (most recent call last)",
      "\u001b[1;32m<ipython-input-26-b654e5b84e6a>\u001b[0m in \u001b[0;36m<module>\u001b[1;34m()\u001b[0m\n\u001b[0;32m      6\u001b[0m \u001b[0mgt_v\u001b[0m\u001b[1;33m=\u001b[0m\u001b[1;33m[\u001b[0m\u001b[1;33m]\u001b[0m\u001b[1;33m\u001b[0m\u001b[0m\n\u001b[0;32m      7\u001b[0m \u001b[1;32mfor\u001b[0m \u001b[0mi\u001b[0m \u001b[1;32min\u001b[0m \u001b[0mrange\u001b[0m\u001b[1;33m(\u001b[0m\u001b[1;36m0\u001b[0m\u001b[1;33m,\u001b[0m\u001b[0mlen\u001b[0m\u001b[1;33m(\u001b[0m\u001b[0mgt\u001b[0m\u001b[1;33m)\u001b[0m\u001b[1;33m-\u001b[0m\u001b[1;36m1\u001b[0m\u001b[1;33m)\u001b[0m\u001b[1;33m:\u001b[0m\u001b[1;33m\u001b[0m\u001b[0m\n\u001b[1;32m----> 8\u001b[1;33m     \u001b[0mft_v\u001b[0m\u001b[1;33m[\u001b[0m\u001b[0mi\u001b[0m\u001b[1;33m]\u001b[0m\u001b[1;33m=\u001b[0m\u001b[0mgt\u001b[0m\u001b[1;33m[\u001b[0m\u001b[0mi\u001b[0m\u001b[1;33m]\u001b[0m\u001b[1;33m\u001b[0m\u001b[0m\n\u001b[0m\u001b[0;32m      9\u001b[0m     \u001b[0mgt_v\u001b[0m\u001b[1;33m.\u001b[0m\u001b[0mappend\u001b[0m\u001b[1;33m(\u001b[0m\u001b[0mgt\u001b[0m\u001b[1;33m[\u001b[0m\u001b[0mi\u001b[0m\u001b[1;33m+\u001b[0m\u001b[1;36m1\u001b[0m\u001b[1;33m]\u001b[0m\u001b[1;33m-\u001b[0m\u001b[0mgt\u001b[0m\u001b[1;33m[\u001b[0m\u001b[0mi\u001b[0m\u001b[1;33m]\u001b[0m\u001b[1;33m)\u001b[0m\u001b[1;33m\u001b[0m\u001b[0m\n\u001b[0;32m     10\u001b[0m \u001b[1;33m\u001b[0m\u001b[0m\n",
      "\u001b[1;31mIndexError\u001b[0m: list assignment index out of range"
     ]
    }
   ],
   "source": [
    "#Pasar datos a variaciones de posición\n",
    "print(len(ft))\n",
    "print(len(gt))\n",
    "print(gt)\n",
    "ft_v=[]\n",
    "gt_v=[]\n",
    "for i in range(0,len(gt)-1):\n",
    "    ft_v.append(gt[i])\n",
    "    gt_v.append(gt[i+1]-gt[i])\n",
    "    \n",
    "plt.plot(gt_v)\n",
    "print(gt)"
   ]
  },
  {
   "cell_type": "code",
   "execution_count": 24,
   "metadata": {
    "colab": {},
    "colab_type": "code",
    "id": "mKcOyFIrlNx5"
   },
   "outputs": [],
   "source": [
    "# convert series to supervised learning\n",
    "def series_to_supervised(data, n_in=1, n_out=1, dropnan=True):\n",
    "\tn_vars = 1 if type(data) is list else data.shape[1]\n",
    "\tdf = DataFrame(data)\n",
    "\tcols, names = list(), list()\n",
    "\t# input sequence (t-n, ... t-1)\n",
    "\tfor i in range(n_in, 0, -1):\n",
    "\t\tcols.append(df.shift(i))\n",
    "\t\tnames += [('var%d(t-%d)' % (j+1, i)) for j in range(n_vars)]\n",
    "\t# forecast sequence (t, t+1, ... t+n)\n",
    "\tfor i in range(0, n_out):\n",
    "\t\tcols.append(df.shift(-i))\n",
    "\t\tif i == 0:\n",
    "\t\t\tnames += [('var%d(t)' % (j+1)) for j in range(n_vars)]\n",
    "\t\telse:\n",
    "\t\t\tnames += [('var%d(t+%d)' % (j+1, i)) for j in range(n_vars)]\n",
    "\t# put it all together\n",
    "\tagg = concat(cols, axis=1)\n",
    "\tagg.columns = names\n",
    "\t# drop rows with NaN values\n",
    "\tif dropnan:\n",
    "\t\tagg.dropna(inplace=True)\n",
    "\treturn agg\n",
    "\n"
   ]
  },
  {
   "cell_type": "code",
   "execution_count": 25,
   "metadata": {
    "colab": {
     "base_uri": "https://localhost:8080/",
     "height": 538
    },
    "colab_type": "code",
    "id": "54WAui6YLEHv",
    "outputId": "a933a6cd-cd2f-4ea2-cdfb-f1d674ae9d7a"
   },
   "outputs": [
    {
     "name": "stdout",
     "output_type": "stream",
     "text": [
      "(18115, 22)\n",
      "    var1(t-10)  var2(t-10)  var1(t-9)  var2(t-9)  var1(t-8)  var2(t-8)  \\\n",
      "10   -0.151659    0.316350  -0.151504   0.316273  -0.151659   0.316350   \n",
      "11   -0.151504    0.316273  -0.151659   0.316350  -0.151659   0.316350   \n",
      "12   -0.151659    0.316350  -0.151659   0.316350  -0.151659   0.316350   \n",
      "13   -0.151659    0.316350  -0.151659   0.316350  -0.151659   0.316350   \n",
      "14   -0.151659    0.316350  -0.151659   0.316350  -0.151504   0.316273   \n",
      "\n",
      "    var1(t-7)  var2(t-7)  var1(t-6)  var2(t-6)    ...     var1(t-4)  \\\n",
      "10  -0.151659   0.316350  -0.151659   0.316350    ...     -0.151504   \n",
      "11  -0.151659   0.316350  -0.151659   0.316350    ...     -0.151659   \n",
      "12  -0.151659   0.316350  -0.151504   0.316273    ...     -0.151659   \n",
      "13  -0.151504   0.316273  -0.151659   0.316350    ...     -0.151659   \n",
      "14  -0.151659   0.316350  -0.151659   0.316350    ...     -0.151659   \n",
      "\n",
      "    var2(t-4)  var1(t-3)  var2(t-3)  var1(t-2)  var2(t-2)  var1(t-1)  \\\n",
      "10   0.316273  -0.151659   0.316350  -0.151659   0.316350  -0.151659   \n",
      "11   0.316350  -0.151659   0.316350  -0.151659   0.316350  -0.151659   \n",
      "12   0.316350  -0.151659   0.316350  -0.151659   0.316350  -0.151504   \n",
      "13   0.316350  -0.151659   0.316350  -0.151504   0.316273  -0.151659   \n",
      "14   0.316350  -0.151504   0.316273  -0.151659   0.316350  -0.151504   \n",
      "\n",
      "    var2(t-1)   var1(t)   var2(t)  \n",
      "10   0.316350 -0.151659  0.316350  \n",
      "11   0.316350 -0.151504  0.316273  \n",
      "12   0.316273 -0.151659  0.316350  \n",
      "13   0.316350 -0.151504  0.316273  \n",
      "14   0.316273 -0.151659  0.316350  \n",
      "\n",
      "[5 rows x 22 columns]\n"
     ]
    }
   ],
   "source": [
    "# normalize features\n",
    "ft_scaler = MinMaxScaler(feature_range=(-1, 1))\n",
    "ft_sc = ft_scaler.fit_transform(ft_v)\n",
    "#gt_scaler = MinMaxScaler(feature_range=(-1,1))\n",
    "#gt_sc = gt_scaler.fit_transform(gt)\n",
    "#specify the number of lag hours\n",
    "gt_sc=gt_v*100\n",
    "n_hours = 10\n",
    "n_features = 19\n",
    "# frame as supervised learning\n",
    "reframed = series_to_supervised(ft_sc, n_hours, 1)\n",
    "print(reframed.shape)\n",
    "print(reframed.head())"
   ]
  },
  {
   "cell_type": "code",
   "execution_count": 21,
   "metadata": {
    "colab": {
     "base_uri": "https://localhost:8080/",
     "height": 399
    },
    "colab_type": "code",
    "id": "jCiWESjwn68u",
    "outputId": "73ce774b-e8e1-4c50-8c4f-fbdfb98d13ba"
   },
   "outputs": [
    {
     "ename": "TypeError",
     "evalue": "list indices must be integers or slices, not tuple",
     "output_type": "error",
     "traceback": [
      "\u001b[1;31m---------------------------------------------------------------------------\u001b[0m",
      "\u001b[1;31mTypeError\u001b[0m                                 Traceback (most recent call last)",
      "\u001b[1;32m<ipython-input-21-d95d27a105fa>\u001b[0m in \u001b[0;36m<module>\u001b[1;34m()\u001b[0m\n\u001b[0;32m      6\u001b[0m \u001b[1;31m# split into input and outputs\u001b[0m\u001b[1;33m\u001b[0m\u001b[1;33m\u001b[0m\u001b[0m\n\u001b[0;32m      7\u001b[0m \u001b[0mn_obs\u001b[0m \u001b[1;33m=\u001b[0m \u001b[0mn_hours\u001b[0m \u001b[1;33m*\u001b[0m \u001b[0mn_features\u001b[0m\u001b[1;33m\u001b[0m\u001b[0m\n\u001b[1;32m----> 8\u001b[1;33m \u001b[0mtrain_X\u001b[0m\u001b[1;33m,\u001b[0m \u001b[0mtrain_y\u001b[0m \u001b[1;33m=\u001b[0m \u001b[0mtrain\u001b[0m\u001b[1;33m[\u001b[0m\u001b[1;33m:\u001b[0m\u001b[1;33m,\u001b[0m \u001b[1;33m:\u001b[0m\u001b[0mn_obs\u001b[0m\u001b[1;33m]\u001b[0m\u001b[1;33m,\u001b[0m \u001b[0mgt_sc\u001b[0m\u001b[1;33m[\u001b[0m\u001b[1;33m:\u001b[0m\u001b[0mn_train_hours\u001b[0m\u001b[1;33m,\u001b[0m\u001b[1;33m:\u001b[0m\u001b[1;33m]\u001b[0m\u001b[1;33m\u001b[0m\u001b[0m\n\u001b[0m\u001b[0;32m      9\u001b[0m \u001b[0mprint\u001b[0m\u001b[1;33m(\u001b[0m\u001b[0mtrain_X\u001b[0m\u001b[1;33m)\u001b[0m\u001b[1;33m\u001b[0m\u001b[0m\n\u001b[0;32m     10\u001b[0m \u001b[0mprint\u001b[0m\u001b[1;33m(\u001b[0m\u001b[0mtrain_y\u001b[0m\u001b[1;33m)\u001b[0m\u001b[1;33m\u001b[0m\u001b[0m\n",
      "\u001b[1;31mTypeError\u001b[0m: list indices must be integers or slices, not tuple"
     ]
    }
   ],
   "source": [
    "# split into train and test sets\n",
    "values = reframed.values\n",
    "n_train_hours = 10000\n",
    "train = values[:n_train_hours, :]\n",
    "test = values[n_train_hours:, :]\n",
    "# split into input and outputs\n",
    "n_obs = n_hours * n_features\n",
    "train_X, train_y = train[:, :n_obs], gt_sc[:n_train_hours,:]\n",
    "print(train_X)\n",
    "print(train_y)\n",
    "test_X, test_y = test[:, :n_obs], gt_sc[n_train_hours:,:]\n",
    "print(train_X.shape, len(train_X), train_y.shape)\n",
    "# reshape input to be 3D [samples, timesteps, features]\n",
    "train_X = train_X.reshape((train_X.shape[0], n_hours, n_features))\n",
    "test_X = test_X.reshape((test_X.shape[0], n_hours, n_features))\n",
    "print(train_X.shape, train_y.shape, test_X.shape, test_y.shape)\n",
    "test_y = test_y[:-10,:]"
   ]
  },
  {
   "cell_type": "code",
   "execution_count": 10,
   "metadata": {},
   "outputs": [],
   "source": [
    "HUBER_DELTA = 0.5\n",
    "def smoothL1(y_true, y_pred):\n",
    "    x= K.abs(y_true - y_pred)\n",
    "    x= K.switch(x < HUBER_DELTA, 0.5 * x ** 2, HUBER_DELTA * (x - 0.5 * HUBER_DELTA))\n",
    "    return  K.sum(x)"
   ]
  },
  {
   "cell_type": "code",
   "execution_count": 11,
   "metadata": {},
   "outputs": [],
   "source": [
    "def dice_loss():\n",
    "    def dice(y_true, y_pred):\n",
    "        return smoothL1(y_true, y_pred)\n",
    "    return dice"
   ]
  },
  {
   "cell_type": "code",
   "execution_count": 12,
   "metadata": {
    "colab": {
     "base_uri": "https://localhost:8080/",
     "height": 1037
    },
    "colab_type": "code",
    "id": "ao4YgnpYE0EB",
    "outputId": "5b0cbc75-3f14-483d-80e4-3b8085d1862c",
    "scrolled": false
   },
   "outputs": [
    {
     "name": "stdout",
     "output_type": "stream",
     "text": [
      "Train on 10000 samples, validate on 8116 samples\n",
      "Epoch 1/200\n",
      " - 46s - loss: 77.7713 - val_loss: 79.1600\n",
      "Epoch 2/200\n",
      " - 16s - loss: 68.1404 - val_loss: 81.3731\n",
      "Epoch 3/200\n",
      " - 17s - loss: 66.9664 - val_loss: 83.5883\n",
      "Epoch 4/200\n",
      " - 12s - loss: 66.0128 - val_loss: 83.6855\n",
      "Epoch 5/200\n",
      " - 14s - loss: 66.4898 - val_loss: 84.5409\n",
      "Epoch 6/200\n",
      " - 16s - loss: 66.1490 - val_loss: 84.3617\n",
      "Epoch 7/200\n",
      " - 13s - loss: 66.3387 - val_loss: 84.4544\n",
      "Epoch 8/200\n",
      " - 15s - loss: 65.8371 - val_loss: 85.4742\n",
      "Epoch 9/200\n"
     ]
    },
    {
     "ename": "KeyboardInterrupt",
     "evalue": "",
     "output_type": "error",
     "traceback": [
      "\u001b[1;31m---------------------------------------------------------------------------\u001b[0m",
      "\u001b[1;31mKeyboardInterrupt\u001b[0m                         Traceback (most recent call last)",
      "\u001b[1;32m<ipython-input-12-112d3e3164f2>\u001b[0m in \u001b[0;36m<module>\u001b[1;34m()\u001b[0m\n\u001b[0;32m     18\u001b[0m \u001b[1;31m#model.compile(loss='mae', optimizer='adam')\u001b[0m\u001b[1;33m\u001b[0m\u001b[1;33m\u001b[0m\u001b[0m\n\u001b[0;32m     19\u001b[0m \u001b[1;31m# fit network\u001b[0m\u001b[1;33m\u001b[0m\u001b[1;33m\u001b[0m\u001b[0m\n\u001b[1;32m---> 20\u001b[1;33m \u001b[0mhistory\u001b[0m \u001b[1;33m=\u001b[0m \u001b[0mmodel\u001b[0m\u001b[1;33m.\u001b[0m\u001b[0mfit\u001b[0m\u001b[1;33m(\u001b[0m\u001b[0mtrain_X\u001b[0m\u001b[1;33m,\u001b[0m \u001b[0mtrain_y\u001b[0m\u001b[1;33m,\u001b[0m \u001b[0mepochs\u001b[0m\u001b[1;33m=\u001b[0m\u001b[1;36m200\u001b[0m\u001b[1;33m,\u001b[0m \u001b[0mbatch_size\u001b[0m\u001b[1;33m=\u001b[0m\u001b[1;36m150\u001b[0m\u001b[1;33m,\u001b[0m \u001b[0mvalidation_data\u001b[0m\u001b[1;33m=\u001b[0m\u001b[1;33m(\u001b[0m\u001b[0mtest_X\u001b[0m\u001b[1;33m,\u001b[0m \u001b[0mtest_y\u001b[0m\u001b[1;33m)\u001b[0m\u001b[1;33m,\u001b[0m \u001b[0mverbose\u001b[0m\u001b[1;33m=\u001b[0m\u001b[1;36m2\u001b[0m\u001b[1;33m,\u001b[0m \u001b[0mshuffle\u001b[0m\u001b[1;33m=\u001b[0m\u001b[1;32mFalse\u001b[0m\u001b[1;33m)\u001b[0m\u001b[1;33m\u001b[0m\u001b[0m\n\u001b[0m\u001b[0;32m     21\u001b[0m \u001b[1;31m# plot history\u001b[0m\u001b[1;33m\u001b[0m\u001b[1;33m\u001b[0m\u001b[0m\n\u001b[0;32m     22\u001b[0m \u001b[0mpyplot\u001b[0m\u001b[1;33m.\u001b[0m\u001b[0mplot\u001b[0m\u001b[1;33m(\u001b[0m\u001b[0mhistory\u001b[0m\u001b[1;33m.\u001b[0m\u001b[0mhistory\u001b[0m\u001b[1;33m[\u001b[0m\u001b[1;34m'loss'\u001b[0m\u001b[1;33m]\u001b[0m\u001b[1;33m,\u001b[0m \u001b[0mlabel\u001b[0m\u001b[1;33m=\u001b[0m\u001b[1;34m'train'\u001b[0m\u001b[1;33m)\u001b[0m\u001b[1;33m\u001b[0m\u001b[0m\n",
      "\u001b[1;32m~\\Anaconda3\\lib\\site-packages\\keras\\engine\\training.py\u001b[0m in \u001b[0;36mfit\u001b[1;34m(self, x, y, batch_size, epochs, verbose, callbacks, validation_split, validation_data, shuffle, class_weight, sample_weight, initial_epoch, steps_per_epoch, validation_steps, **kwargs)\u001b[0m\n\u001b[0;32m   1035\u001b[0m                                         \u001b[0minitial_epoch\u001b[0m\u001b[1;33m=\u001b[0m\u001b[0minitial_epoch\u001b[0m\u001b[1;33m,\u001b[0m\u001b[1;33m\u001b[0m\u001b[0m\n\u001b[0;32m   1036\u001b[0m                                         \u001b[0msteps_per_epoch\u001b[0m\u001b[1;33m=\u001b[0m\u001b[0msteps_per_epoch\u001b[0m\u001b[1;33m,\u001b[0m\u001b[1;33m\u001b[0m\u001b[0m\n\u001b[1;32m-> 1037\u001b[1;33m                                         validation_steps=validation_steps)\n\u001b[0m\u001b[0;32m   1038\u001b[0m \u001b[1;33m\u001b[0m\u001b[0m\n\u001b[0;32m   1039\u001b[0m     def evaluate(self, x=None, y=None,\n",
      "\u001b[1;32m~\\Anaconda3\\lib\\site-packages\\keras\\engine\\training_arrays.py\u001b[0m in \u001b[0;36mfit_loop\u001b[1;34m(model, f, ins, out_labels, batch_size, epochs, verbose, callbacks, val_f, val_ins, shuffle, callback_metrics, initial_epoch, steps_per_epoch, validation_steps)\u001b[0m\n\u001b[0;32m    197\u001b[0m                     \u001b[0mins_batch\u001b[0m\u001b[1;33m[\u001b[0m\u001b[0mi\u001b[0m\u001b[1;33m]\u001b[0m \u001b[1;33m=\u001b[0m \u001b[0mins_batch\u001b[0m\u001b[1;33m[\u001b[0m\u001b[0mi\u001b[0m\u001b[1;33m]\u001b[0m\u001b[1;33m.\u001b[0m\u001b[0mtoarray\u001b[0m\u001b[1;33m(\u001b[0m\u001b[1;33m)\u001b[0m\u001b[1;33m\u001b[0m\u001b[0m\n\u001b[0;32m    198\u001b[0m \u001b[1;33m\u001b[0m\u001b[0m\n\u001b[1;32m--> 199\u001b[1;33m                 \u001b[0mouts\u001b[0m \u001b[1;33m=\u001b[0m \u001b[0mf\u001b[0m\u001b[1;33m(\u001b[0m\u001b[0mins_batch\u001b[0m\u001b[1;33m)\u001b[0m\u001b[1;33m\u001b[0m\u001b[0m\n\u001b[0m\u001b[0;32m    200\u001b[0m                 \u001b[0mouts\u001b[0m \u001b[1;33m=\u001b[0m \u001b[0mto_list\u001b[0m\u001b[1;33m(\u001b[0m\u001b[0mouts\u001b[0m\u001b[1;33m)\u001b[0m\u001b[1;33m\u001b[0m\u001b[0m\n\u001b[0;32m    201\u001b[0m                 \u001b[1;32mfor\u001b[0m \u001b[0ml\u001b[0m\u001b[1;33m,\u001b[0m \u001b[0mo\u001b[0m \u001b[1;32min\u001b[0m \u001b[0mzip\u001b[0m\u001b[1;33m(\u001b[0m\u001b[0mout_labels\u001b[0m\u001b[1;33m,\u001b[0m \u001b[0mouts\u001b[0m\u001b[1;33m)\u001b[0m\u001b[1;33m:\u001b[0m\u001b[1;33m\u001b[0m\u001b[0m\n",
      "\u001b[1;32m~\\Anaconda3\\lib\\site-packages\\keras\\backend\\tensorflow_backend.py\u001b[0m in \u001b[0;36m__call__\u001b[1;34m(self, inputs)\u001b[0m\n\u001b[0;32m   2664\u001b[0m                 \u001b[1;32mreturn\u001b[0m \u001b[0mself\u001b[0m\u001b[1;33m.\u001b[0m\u001b[0m_legacy_call\u001b[0m\u001b[1;33m(\u001b[0m\u001b[0minputs\u001b[0m\u001b[1;33m)\u001b[0m\u001b[1;33m\u001b[0m\u001b[0m\n\u001b[0;32m   2665\u001b[0m \u001b[1;33m\u001b[0m\u001b[0m\n\u001b[1;32m-> 2666\u001b[1;33m             \u001b[1;32mreturn\u001b[0m \u001b[0mself\u001b[0m\u001b[1;33m.\u001b[0m\u001b[0m_call\u001b[0m\u001b[1;33m(\u001b[0m\u001b[0minputs\u001b[0m\u001b[1;33m)\u001b[0m\u001b[1;33m\u001b[0m\u001b[0m\n\u001b[0m\u001b[0;32m   2667\u001b[0m         \u001b[1;32melse\u001b[0m\u001b[1;33m:\u001b[0m\u001b[1;33m\u001b[0m\u001b[0m\n\u001b[0;32m   2668\u001b[0m             \u001b[1;32mif\u001b[0m \u001b[0mpy_any\u001b[0m\u001b[1;33m(\u001b[0m\u001b[0mis_tensor\u001b[0m\u001b[1;33m(\u001b[0m\u001b[0mx\u001b[0m\u001b[1;33m)\u001b[0m \u001b[1;32mfor\u001b[0m \u001b[0mx\u001b[0m \u001b[1;32min\u001b[0m \u001b[0minputs\u001b[0m\u001b[1;33m)\u001b[0m\u001b[1;33m:\u001b[0m\u001b[1;33m\u001b[0m\u001b[0m\n",
      "\u001b[1;32m~\\Anaconda3\\lib\\site-packages\\keras\\backend\\tensorflow_backend.py\u001b[0m in \u001b[0;36m_call\u001b[1;34m(self, inputs)\u001b[0m\n\u001b[0;32m   2634\u001b[0m                                 \u001b[0msymbol_vals\u001b[0m\u001b[1;33m,\u001b[0m\u001b[1;33m\u001b[0m\u001b[0m\n\u001b[0;32m   2635\u001b[0m                                 session)\n\u001b[1;32m-> 2636\u001b[1;33m         \u001b[0mfetched\u001b[0m \u001b[1;33m=\u001b[0m \u001b[0mself\u001b[0m\u001b[1;33m.\u001b[0m\u001b[0m_callable_fn\u001b[0m\u001b[1;33m(\u001b[0m\u001b[1;33m*\u001b[0m\u001b[0marray_vals\u001b[0m\u001b[1;33m)\u001b[0m\u001b[1;33m\u001b[0m\u001b[0m\n\u001b[0m\u001b[0;32m   2637\u001b[0m         \u001b[1;32mreturn\u001b[0m \u001b[0mfetched\u001b[0m\u001b[1;33m[\u001b[0m\u001b[1;33m:\u001b[0m\u001b[0mlen\u001b[0m\u001b[1;33m(\u001b[0m\u001b[0mself\u001b[0m\u001b[1;33m.\u001b[0m\u001b[0moutputs\u001b[0m\u001b[1;33m)\u001b[0m\u001b[1;33m]\u001b[0m\u001b[1;33m\u001b[0m\u001b[0m\n\u001b[0;32m   2638\u001b[0m \u001b[1;33m\u001b[0m\u001b[0m\n",
      "\u001b[1;32m~\\Anaconda3\\lib\\site-packages\\tensorflow\\python\\client\\session.py\u001b[0m in \u001b[0;36m__call__\u001b[1;34m(self, *args, **kwargs)\u001b[0m\n\u001b[0;32m   1380\u001b[0m           ret = tf_session.TF_SessionRunCallable(\n\u001b[0;32m   1381\u001b[0m               \u001b[0mself\u001b[0m\u001b[1;33m.\u001b[0m\u001b[0m_session\u001b[0m\u001b[1;33m.\u001b[0m\u001b[0m_session\u001b[0m\u001b[1;33m,\u001b[0m \u001b[0mself\u001b[0m\u001b[1;33m.\u001b[0m\u001b[0m_handle\u001b[0m\u001b[1;33m,\u001b[0m \u001b[0margs\u001b[0m\u001b[1;33m,\u001b[0m \u001b[0mstatus\u001b[0m\u001b[1;33m,\u001b[0m\u001b[1;33m\u001b[0m\u001b[0m\n\u001b[1;32m-> 1382\u001b[1;33m               run_metadata_ptr)\n\u001b[0m\u001b[0;32m   1383\u001b[0m         \u001b[1;32mif\u001b[0m \u001b[0mrun_metadata\u001b[0m\u001b[1;33m:\u001b[0m\u001b[1;33m\u001b[0m\u001b[0m\n\u001b[0;32m   1384\u001b[0m           \u001b[0mproto_data\u001b[0m \u001b[1;33m=\u001b[0m \u001b[0mtf_session\u001b[0m\u001b[1;33m.\u001b[0m\u001b[0mTF_GetBuffer\u001b[0m\u001b[1;33m(\u001b[0m\u001b[0mrun_metadata_ptr\u001b[0m\u001b[1;33m)\u001b[0m\u001b[1;33m\u001b[0m\u001b[0m\n",
      "\u001b[1;31mKeyboardInterrupt\u001b[0m: "
     ]
    }
   ],
   "source": [
    "\n",
    "# design network\n",
    "model = Sequential()\n",
    "#model.add(Dense(50))\n",
    "#model.add(Dense(100))\n",
    "#model.add(Dense(100))\n",
    "#model.add(Dropout(0.5))\n",
    "model.add(LSTM(50,input_shape=(train_X.shape[1],train_X.shape[2]),return_sequences=True,))\n",
    "#model.add(Dropout(0.3))# return a single vector of dimension 32\n",
    "model.add(LSTM(50,return_sequences=True,))  # returns a sequence of vectors of dimension 32\n",
    "model.add(LSTM(50))  # returns a sequence of vectors of dimension 32\n",
    "\n",
    "#model.add(Dense(100))\n",
    "model.add(Dense(2))\n",
    "model_dice = dice_loss()\n",
    "# compile model\n",
    "model.compile(loss=model_dice, optimizer='adam')\n",
    "#model.compile(loss='mae', optimizer='adam')\n",
    "# fit network\n",
    "history = model.fit(train_X, train_y, epochs=200, batch_size=150, validation_data=(test_X, test_y), verbose=2, shuffle=False)\n",
    "# plot history\n",
    "pyplot.plot(history.history['loss'], label='train')\n",
    "pyplot.plot(history.history['val_loss'], label='test')\n",
    "pyplot.legend()\n",
    "pyplot.show()"
   ]
  },
  {
   "cell_type": "code",
   "execution_count": null,
   "metadata": {
    "colab": {
     "base_uri": "https://localhost:8080/",
     "height": 34
    },
    "colab_type": "code",
    "id": "i5W8gwIcoAZK",
    "outputId": "72508307-caab-4af7-a2c8-d537ea3bfd59"
   },
   "outputs": [],
   "source": [
    "# make a prediction\n",
    "yhat = model.predict(test_X)\n",
    "yhat2 = model.predict(train_X)\n",
    "\n",
    "print(type(yhat))\n",
    "print(type(test_y))\n",
    "\n",
    "# calculate RMSE\n",
    "rmse = sqrt(mean_squared_error(yhat, test_y))\n",
    "rmse2 = sqrt(mean_squared_error(yhat, test_y))\n",
    "print('Test RMSE: %.3f' % rmse)\n",
    "\n",
    "rmse = mean_squared_error(yhat, test_y)\n",
    "print('Test RMSE: %.3f' % rmse)"
   ]
  },
  {
   "cell_type": "code",
   "execution_count": null,
   "metadata": {
    "colab": {
     "base_uri": "https://localhost:8080/",
     "height": 347
    },
    "colab_type": "code",
    "id": "hbQ6-fYNdCQ_",
    "outputId": "c7c3af1d-f710-4a6e-88f1-12a13a6e03c5"
   },
   "outputs": [],
   "source": [
    "\n",
    "ypred = model.predict(train_X)\n",
    "x = np.linspace(0,ypred.shape[0], ypred.shape[0]).reshape(ypred.shape[0],)\n",
    "pyplot.plot(ypred[:,1],'r')\n",
    "pyplot.plot(train_y[:,1],'b')\n",
    "error=np.abs(ypred[:,[1]]-train_y[:,[1]])\n",
    "pyplot.fill_between(x,(ypred[:,[1]]-error).reshape(ypred.shape[0],), (ypred[:,[1]]+error).reshape(ypred.shape[0],))\n",
    "pyplot.legend(['predicted','true'])\n",
    "pyplot.show()\n",
    "#ypred = model.predict(train_X)\n",
    "x = np.linspace(0,ypred.shape[0], ypred.shape[0]).reshape(ypred.shape[0],)\n",
    "pyplot.plot(ypred[:,0],'r')\n",
    "pyplot.plot(train_y[:,0],'b')\n",
    "error=np.abs(ypred[:,[0]]-train_y[:,[0]])\n",
    "pyplot.fill_between(x,(ypred[:,[0]]-error).reshape(ypred.shape[0],), (ypred[:,[0]]+error).reshape(ypred.shape[0],))\n",
    "pyplot.legend(['predicted','true'])\n",
    "pyplot.show()"
   ]
  },
  {
   "cell_type": "code",
   "execution_count": null,
   "metadata": {
    "colab": {
     "base_uri": "https://localhost:8080/",
     "height": 347
    },
    "colab_type": "code",
    "id": "85JJZKw1pSmF",
    "outputId": "b3e1ffce-9f50-4f45-be13-a814a4ec7a94"
   },
   "outputs": [],
   "source": [
    "x = np.linspace(0,yhat.shape[0], yhat.shape[0]).reshape(yhat.shape[0],)\n",
    "pyplot.plot(yhat[:,[1]],'r')\n",
    "pyplot.plot(test_y[:,[1]],'orange')\n",
    "error=np.abs(yhat[:,[1]]-test_y[:,[1]])\n",
    "pyplot.fill_between(x,(yhat[:,[1]]-error).reshape(yhat.shape[0],), (yhat[:,[1]]+error).reshape(yhat.shape[0],))\n",
    "pyplot.legend(['predicted','true'])\n",
    "pyplot.show()\n",
    "pyplot.plot(yhat[:,[0]],'r')\n",
    "pyplot.plot(test_y[:,[0]],'orange')\n",
    "error=np.abs(yhat[:,[0]]-test_y[:,[0]])\n",
    "pyplot.fill_between(x,(yhat[:,[0]]-error).reshape(yhat.shape[0],), (yhat[:,[0]]+error).reshape(yhat.shape[0],))\n",
    "pyplot.legend(['predicted','true'])\n",
    "pyplot.show()"
   ]
  },
  {
   "cell_type": "code",
   "execution_count": null,
   "metadata": {
    "colab": {
     "base_uri": "https://localhost:8080/",
     "height": 347
    },
    "colab_type": "code",
    "id": "85JJZKw1pSmF",
    "outputId": "b3e1ffce-9f50-4f45-be13-a814a4ec7a94"
   },
   "outputs": [],
   "source": [
    "pyplot.plot(yhat[:,[2]],'r')\n",
    "pyplot.plot(test_y[:,[2]],'orange')\n",
    "error=np.abs(yhat[:,[2]]-test_y[:,[2]])\n",
    "pyplot.fill_between(x,(yhat[:,[2]]-error).reshape(yhat.shape[0],), (yhat[:,[2]]+error).reshape(yhat.shape[0],))\n",
    "pyplot.show()"
   ]
  },
  {
   "cell_type": "code",
   "execution_count": null,
   "metadata": {
    "colab": {
     "base_uri": "https://localhost:8080/",
     "height": 347
    },
    "colab_type": "code",
    "id": "eGDvwV02UlCD",
    "outputId": "17945fbc-38da-4969-db6a-7b8903960973"
   },
   "outputs": [],
   "source": [
    "pyplot.plot(gt_sc)\n",
    "pyplot.show()"
   ]
  }
 ],
 "metadata": {
  "colab": {
   "name": "last_hope.ipynb",
   "provenance": [],
   "version": "0.3.2"
  },
  "kernelspec": {
   "display_name": "Python 3",
   "language": "python",
   "name": "python3"
  },
  "language_info": {
   "codemirror_mode": {
    "name": "ipython",
    "version": 3
   },
   "file_extension": ".py",
   "mimetype": "text/x-python",
   "name": "python",
   "nbconvert_exporter": "python",
   "pygments_lexer": "ipython3",
   "version": "3.6.6"
  }
 },
 "nbformat": 4,
 "nbformat_minor": 2
}
